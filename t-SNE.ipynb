{
 "cells": [
  {
   "cell_type": "code",
   "execution_count": 186,
   "metadata": {},
   "outputs": [],
   "source": [
    "import pandas as pd\n",
    "import numpy as np\n",
    "from sklearn.cluster import KMeans\n",
    "from sklearn.preprocessing import StandardScaler, MinMaxScaler\n",
    "import plotly.express as px\n",
    "from sklearn.manifold import TSNE\n",
    "from sklearn.decomposition import PCA"
   ]
  },
  {
   "cell_type": "code",
   "execution_count": 65,
   "metadata": {},
   "outputs": [],
   "source": [
    "sales_2022 = pd.read_csv(\"./Data/Iowa_Liquor_Sales_2022.csv\")"
   ]
  },
  {
   "cell_type": "code",
   "execution_count": 296,
   "metadata": {},
   "outputs": [],
   "source": [
    "sales_2022_filtered = sales_2022[['Vendor Name', 'Category Name', 'Bottle Volume (ml)', 'Bottles Sold', 'Sale (Dollars)']]\n",
    "sales_2022_agg = sales_2022_filtered.groupby(['Vendor Name', 'Category Name', 'Bottle Volume (ml)']).agg(\n",
    "    cumulative_vol = pd.NamedAgg(column='Bottles Sold', aggfunc='sum')\n",
    ").reset_index(drop=False)"
   ]
  },
  {
   "cell_type": "code",
   "execution_count": 297,
   "metadata": {},
   "outputs": [
    {
     "data": {
      "text/html": [
       "<div>\n",
       "<style scoped>\n",
       "    .dataframe tbody tr th:only-of-type {\n",
       "        vertical-align: middle;\n",
       "    }\n",
       "\n",
       "    .dataframe tbody tr th {\n",
       "        vertical-align: top;\n",
       "    }\n",
       "\n",
       "    .dataframe thead th {\n",
       "        text-align: right;\n",
       "    }\n",
       "</style>\n",
       "<table border=\"1\" class=\"dataframe\">\n",
       "  <thead>\n",
       "    <tr style=\"text-align: right;\">\n",
       "      <th>Agg_Name</th>\n",
       "      <th>Vendor Name</th>\n",
       "      <th>100% AGAVE TEQUILA_50</th>\n",
       "      <th>100% AGAVE TEQUILA_100</th>\n",
       "      <th>100% AGAVE TEQUILA_200</th>\n",
       "      <th>100% AGAVE TEQUILA_375</th>\n",
       "      <th>100% AGAVE TEQUILA_750</th>\n",
       "      <th>100% AGAVE TEQUILA_1750</th>\n",
       "      <th>AGED DARK RUM_750</th>\n",
       "      <th>AGED DARK RUM_1750</th>\n",
       "      <th>AMERICAN DISTILLED SPIRITS SPECIALTY_750</th>\n",
       "      <th>...</th>\n",
       "      <th>TEMPORARY &amp; SPECIALTY PACKAGES_800</th>\n",
       "      <th>TEMPORARY &amp; SPECIALTY PACKAGES_850</th>\n",
       "      <th>TEMPORARY &amp; SPECIALTY PACKAGES_1750</th>\n",
       "      <th>TENNESSEE WHISKIES_750</th>\n",
       "      <th>WHITE RUM_50</th>\n",
       "      <th>WHITE RUM_200</th>\n",
       "      <th>WHITE RUM_375</th>\n",
       "      <th>WHITE RUM_750</th>\n",
       "      <th>WHITE RUM_1000</th>\n",
       "      <th>WHITE RUM_1750</th>\n",
       "    </tr>\n",
       "  </thead>\n",
       "  <tbody>\n",
       "    <tr>\n",
       "      <th>0</th>\n",
       "      <td>173 CRAFT DISTILLERY</td>\n",
       "      <td>0</td>\n",
       "      <td>0</td>\n",
       "      <td>0</td>\n",
       "      <td>0</td>\n",
       "      <td>0</td>\n",
       "      <td>0</td>\n",
       "      <td>0</td>\n",
       "      <td>0</td>\n",
       "      <td>0</td>\n",
       "      <td>...</td>\n",
       "      <td>0</td>\n",
       "      <td>0</td>\n",
       "      <td>0</td>\n",
       "      <td>0</td>\n",
       "      <td>0</td>\n",
       "      <td>0</td>\n",
       "      <td>0</td>\n",
       "      <td>228</td>\n",
       "      <td>0</td>\n",
       "      <td>0</td>\n",
       "    </tr>\n",
       "    <tr>\n",
       "      <th>1</th>\n",
       "      <td>21ST CENTURY SPIRITS LLC</td>\n",
       "      <td>0</td>\n",
       "      <td>0</td>\n",
       "      <td>0</td>\n",
       "      <td>0</td>\n",
       "      <td>0</td>\n",
       "      <td>0</td>\n",
       "      <td>0</td>\n",
       "      <td>0</td>\n",
       "      <td>0</td>\n",
       "      <td>...</td>\n",
       "      <td>0</td>\n",
       "      <td>0</td>\n",
       "      <td>0</td>\n",
       "      <td>0</td>\n",
       "      <td>0</td>\n",
       "      <td>0</td>\n",
       "      <td>0</td>\n",
       "      <td>0</td>\n",
       "      <td>0</td>\n",
       "      <td>0</td>\n",
       "    </tr>\n",
       "    <tr>\n",
       "      <th>2</th>\n",
       "      <td>3 BADGE CORPORATION</td>\n",
       "      <td>0</td>\n",
       "      <td>0</td>\n",
       "      <td>0</td>\n",
       "      <td>0</td>\n",
       "      <td>50</td>\n",
       "      <td>0</td>\n",
       "      <td>116</td>\n",
       "      <td>0</td>\n",
       "      <td>0</td>\n",
       "      <td>...</td>\n",
       "      <td>0</td>\n",
       "      <td>0</td>\n",
       "      <td>0</td>\n",
       "      <td>0</td>\n",
       "      <td>0</td>\n",
       "      <td>0</td>\n",
       "      <td>0</td>\n",
       "      <td>0</td>\n",
       "      <td>0</td>\n",
       "      <td>0</td>\n",
       "    </tr>\n",
       "    <tr>\n",
       "      <th>3</th>\n",
       "      <td>3-OAKS DISTILLERY, LLC</td>\n",
       "      <td>0</td>\n",
       "      <td>0</td>\n",
       "      <td>0</td>\n",
       "      <td>0</td>\n",
       "      <td>0</td>\n",
       "      <td>0</td>\n",
       "      <td>0</td>\n",
       "      <td>0</td>\n",
       "      <td>0</td>\n",
       "      <td>...</td>\n",
       "      <td>0</td>\n",
       "      <td>0</td>\n",
       "      <td>0</td>\n",
       "      <td>0</td>\n",
       "      <td>0</td>\n",
       "      <td>0</td>\n",
       "      <td>0</td>\n",
       "      <td>0</td>\n",
       "      <td>0</td>\n",
       "      <td>0</td>\n",
       "    </tr>\n",
       "    <tr>\n",
       "      <th>4</th>\n",
       "      <td>45TH PARALLEL SPIRITS</td>\n",
       "      <td>0</td>\n",
       "      <td>0</td>\n",
       "      <td>0</td>\n",
       "      <td>0</td>\n",
       "      <td>0</td>\n",
       "      <td>0</td>\n",
       "      <td>0</td>\n",
       "      <td>0</td>\n",
       "      <td>6</td>\n",
       "      <td>...</td>\n",
       "      <td>0</td>\n",
       "      <td>0</td>\n",
       "      <td>0</td>\n",
       "      <td>0</td>\n",
       "      <td>0</td>\n",
       "      <td>0</td>\n",
       "      <td>0</td>\n",
       "      <td>0</td>\n",
       "      <td>0</td>\n",
       "      <td>0</td>\n",
       "    </tr>\n",
       "    <tr>\n",
       "      <th>...</th>\n",
       "      <td>...</td>\n",
       "      <td>...</td>\n",
       "      <td>...</td>\n",
       "      <td>...</td>\n",
       "      <td>...</td>\n",
       "      <td>...</td>\n",
       "      <td>...</td>\n",
       "      <td>...</td>\n",
       "      <td>...</td>\n",
       "      <td>...</td>\n",
       "      <td>...</td>\n",
       "      <td>...</td>\n",
       "      <td>...</td>\n",
       "      <td>...</td>\n",
       "      <td>...</td>\n",
       "      <td>...</td>\n",
       "      <td>...</td>\n",
       "      <td>...</td>\n",
       "      <td>...</td>\n",
       "      <td>...</td>\n",
       "      <td>...</td>\n",
       "    </tr>\n",
       "    <tr>\n",
       "      <th>232</th>\n",
       "      <td>WMC-PBD LLC/ PINE BLUFFS DISTILLING</td>\n",
       "      <td>0</td>\n",
       "      <td>0</td>\n",
       "      <td>0</td>\n",
       "      <td>0</td>\n",
       "      <td>0</td>\n",
       "      <td>0</td>\n",
       "      <td>0</td>\n",
       "      <td>0</td>\n",
       "      <td>18</td>\n",
       "      <td>...</td>\n",
       "      <td>0</td>\n",
       "      <td>0</td>\n",
       "      <td>0</td>\n",
       "      <td>0</td>\n",
       "      <td>0</td>\n",
       "      <td>0</td>\n",
       "      <td>0</td>\n",
       "      <td>0</td>\n",
       "      <td>0</td>\n",
       "      <td>0</td>\n",
       "    </tr>\n",
       "    <tr>\n",
       "      <th>233</th>\n",
       "      <td>WOODY CREEK DISTILLERS LLC</td>\n",
       "      <td>0</td>\n",
       "      <td>0</td>\n",
       "      <td>0</td>\n",
       "      <td>0</td>\n",
       "      <td>0</td>\n",
       "      <td>0</td>\n",
       "      <td>0</td>\n",
       "      <td>0</td>\n",
       "      <td>0</td>\n",
       "      <td>...</td>\n",
       "      <td>0</td>\n",
       "      <td>0</td>\n",
       "      <td>0</td>\n",
       "      <td>0</td>\n",
       "      <td>0</td>\n",
       "      <td>0</td>\n",
       "      <td>0</td>\n",
       "      <td>0</td>\n",
       "      <td>0</td>\n",
       "      <td>0</td>\n",
       "    </tr>\n",
       "    <tr>\n",
       "      <th>234</th>\n",
       "      <td>WORLD TRADE LIQUOR IMPORTS LLC</td>\n",
       "      <td>0</td>\n",
       "      <td>0</td>\n",
       "      <td>0</td>\n",
       "      <td>0</td>\n",
       "      <td>727</td>\n",
       "      <td>0</td>\n",
       "      <td>0</td>\n",
       "      <td>0</td>\n",
       "      <td>0</td>\n",
       "      <td>...</td>\n",
       "      <td>0</td>\n",
       "      <td>0</td>\n",
       "      <td>0</td>\n",
       "      <td>0</td>\n",
       "      <td>0</td>\n",
       "      <td>0</td>\n",
       "      <td>0</td>\n",
       "      <td>0</td>\n",
       "      <td>0</td>\n",
       "      <td>0</td>\n",
       "    </tr>\n",
       "    <tr>\n",
       "      <th>235</th>\n",
       "      <td>WORLDWIDE LIBATIONS, LLC</td>\n",
       "      <td>0</td>\n",
       "      <td>0</td>\n",
       "      <td>0</td>\n",
       "      <td>0</td>\n",
       "      <td>0</td>\n",
       "      <td>0</td>\n",
       "      <td>3</td>\n",
       "      <td>0</td>\n",
       "      <td>0</td>\n",
       "      <td>...</td>\n",
       "      <td>0</td>\n",
       "      <td>0</td>\n",
       "      <td>0</td>\n",
       "      <td>0</td>\n",
       "      <td>0</td>\n",
       "      <td>0</td>\n",
       "      <td>0</td>\n",
       "      <td>18</td>\n",
       "      <td>0</td>\n",
       "      <td>0</td>\n",
       "    </tr>\n",
       "    <tr>\n",
       "      <th>236</th>\n",
       "      <td>WRS CO. LLC / WRS IMPORTS</td>\n",
       "      <td>0</td>\n",
       "      <td>0</td>\n",
       "      <td>0</td>\n",
       "      <td>0</td>\n",
       "      <td>30</td>\n",
       "      <td>0</td>\n",
       "      <td>0</td>\n",
       "      <td>0</td>\n",
       "      <td>0</td>\n",
       "      <td>...</td>\n",
       "      <td>0</td>\n",
       "      <td>0</td>\n",
       "      <td>0</td>\n",
       "      <td>0</td>\n",
       "      <td>0</td>\n",
       "      <td>0</td>\n",
       "      <td>0</td>\n",
       "      <td>0</td>\n",
       "      <td>0</td>\n",
       "      <td>0</td>\n",
       "    </tr>\n",
       "  </tbody>\n",
       "</table>\n",
       "<p>237 rows × 65 columns</p>\n",
       "</div>"
      ],
      "text/plain": [
       "Agg_Name                          Vendor Name  100% AGAVE TEQUILA_50  \\\n",
       "0                        173 CRAFT DISTILLERY                      0   \n",
       "1                    21ST CENTURY SPIRITS LLC                      0   \n",
       "2                         3 BADGE CORPORATION                      0   \n",
       "3                      3-OAKS DISTILLERY, LLC                      0   \n",
       "4                       45TH PARALLEL SPIRITS                      0   \n",
       "..                                        ...                    ...   \n",
       "232       WMC-PBD LLC/ PINE BLUFFS DISTILLING                      0   \n",
       "233                WOODY CREEK DISTILLERS LLC                      0   \n",
       "234            WORLD TRADE LIQUOR IMPORTS LLC                      0   \n",
       "235                  WORLDWIDE LIBATIONS, LLC                      0   \n",
       "236                 WRS CO. LLC / WRS IMPORTS                      0   \n",
       "\n",
       "Agg_Name  100% AGAVE TEQUILA_100  100% AGAVE TEQUILA_200  \\\n",
       "0                              0                       0   \n",
       "1                              0                       0   \n",
       "2                              0                       0   \n",
       "3                              0                       0   \n",
       "4                              0                       0   \n",
       "..                           ...                     ...   \n",
       "232                            0                       0   \n",
       "233                            0                       0   \n",
       "234                            0                       0   \n",
       "235                            0                       0   \n",
       "236                            0                       0   \n",
       "\n",
       "Agg_Name  100% AGAVE TEQUILA_375  100% AGAVE TEQUILA_750  \\\n",
       "0                              0                       0   \n",
       "1                              0                       0   \n",
       "2                              0                      50   \n",
       "3                              0                       0   \n",
       "4                              0                       0   \n",
       "..                           ...                     ...   \n",
       "232                            0                       0   \n",
       "233                            0                       0   \n",
       "234                            0                     727   \n",
       "235                            0                       0   \n",
       "236                            0                      30   \n",
       "\n",
       "Agg_Name  100% AGAVE TEQUILA_1750  AGED DARK RUM_750  AGED DARK RUM_1750  \\\n",
       "0                               0                  0                   0   \n",
       "1                               0                  0                   0   \n",
       "2                               0                116                   0   \n",
       "3                               0                  0                   0   \n",
       "4                               0                  0                   0   \n",
       "..                            ...                ...                 ...   \n",
       "232                             0                  0                   0   \n",
       "233                             0                  0                   0   \n",
       "234                             0                  0                   0   \n",
       "235                             0                  3                   0   \n",
       "236                             0                  0                   0   \n",
       "\n",
       "Agg_Name  AMERICAN DISTILLED SPIRITS SPECIALTY_750  ...  \\\n",
       "0                                                0  ...   \n",
       "1                                                0  ...   \n",
       "2                                                0  ...   \n",
       "3                                                0  ...   \n",
       "4                                                6  ...   \n",
       "..                                             ...  ...   \n",
       "232                                             18  ...   \n",
       "233                                              0  ...   \n",
       "234                                              0  ...   \n",
       "235                                              0  ...   \n",
       "236                                              0  ...   \n",
       "\n",
       "Agg_Name  TEMPORARY & SPECIALTY PACKAGES_800  \\\n",
       "0                                          0   \n",
       "1                                          0   \n",
       "2                                          0   \n",
       "3                                          0   \n",
       "4                                          0   \n",
       "..                                       ...   \n",
       "232                                        0   \n",
       "233                                        0   \n",
       "234                                        0   \n",
       "235                                        0   \n",
       "236                                        0   \n",
       "\n",
       "Agg_Name  TEMPORARY & SPECIALTY PACKAGES_850  \\\n",
       "0                                          0   \n",
       "1                                          0   \n",
       "2                                          0   \n",
       "3                                          0   \n",
       "4                                          0   \n",
       "..                                       ...   \n",
       "232                                        0   \n",
       "233                                        0   \n",
       "234                                        0   \n",
       "235                                        0   \n",
       "236                                        0   \n",
       "\n",
       "Agg_Name  TEMPORARY & SPECIALTY PACKAGES_1750  TENNESSEE WHISKIES_750  \\\n",
       "0                                           0                       0   \n",
       "1                                           0                       0   \n",
       "2                                           0                       0   \n",
       "3                                           0                       0   \n",
       "4                                           0                       0   \n",
       "..                                        ...                     ...   \n",
       "232                                         0                       0   \n",
       "233                                         0                       0   \n",
       "234                                         0                       0   \n",
       "235                                         0                       0   \n",
       "236                                         0                       0   \n",
       "\n",
       "Agg_Name  WHITE RUM_50  WHITE RUM_200  WHITE RUM_375  WHITE RUM_750  \\\n",
       "0                    0              0              0            228   \n",
       "1                    0              0              0              0   \n",
       "2                    0              0              0              0   \n",
       "3                    0              0              0              0   \n",
       "4                    0              0              0              0   \n",
       "..                 ...            ...            ...            ...   \n",
       "232                  0              0              0              0   \n",
       "233                  0              0              0              0   \n",
       "234                  0              0              0              0   \n",
       "235                  0              0              0             18   \n",
       "236                  0              0              0              0   \n",
       "\n",
       "Agg_Name  WHITE RUM_1000  WHITE RUM_1750  \n",
       "0                      0               0  \n",
       "1                      0               0  \n",
       "2                      0               0  \n",
       "3                      0               0  \n",
       "4                      0               0  \n",
       "..                   ...             ...  \n",
       "232                    0               0  \n",
       "233                    0               0  \n",
       "234                    0               0  \n",
       "235                    0               0  \n",
       "236                    0               0  \n",
       "\n",
       "[237 rows x 65 columns]"
      ]
     },
     "execution_count": 297,
     "metadata": {},
     "output_type": "execute_result"
    }
   ],
   "source": [
    "sales_2022_agg['Agg_Name'] = sales_2022_agg['Category Name'] + \"_\" + sales_2022_agg['Bottle Volume (ml)'].astype(str)\n",
    "table = pd.pivot_table(sales_2022_agg, values='cumulative_vol', index=['Vendor Name'],\n",
    "                       columns=['Agg_Name'], aggfunc=\"sum\", fill_value=0)\n",
    "table = table.reset_index(drop=False).set_index(['Vendor Name'])\n",
    "\n",
    "imp_categories = list(sales_2022_agg[sales_2022_agg['Vendor Name'] == 'BACARDI USA INC']['Agg_Name'].unique())\n",
    "table = table[imp_categories].reset_index(drop=False)\n",
    "table"
   ]
  },
  {
   "cell_type": "code",
   "execution_count": 298,
   "metadata": {},
   "outputs": [
    {
     "data": {
      "text/html": [
       "<div>\n",
       "<style scoped>\n",
       "    .dataframe tbody tr th:only-of-type {\n",
       "        vertical-align: middle;\n",
       "    }\n",
       "\n",
       "    .dataframe tbody tr th {\n",
       "        vertical-align: top;\n",
       "    }\n",
       "\n",
       "    .dataframe thead th {\n",
       "        text-align: right;\n",
       "    }\n",
       "</style>\n",
       "<table border=\"1\" class=\"dataframe\">\n",
       "  <thead>\n",
       "    <tr style=\"text-align: right;\">\n",
       "      <th></th>\n",
       "      <th>count</th>\n",
       "      <th>mean</th>\n",
       "      <th>std</th>\n",
       "      <th>min</th>\n",
       "      <th>25%</th>\n",
       "      <th>50%</th>\n",
       "      <th>75%</th>\n",
       "      <th>max</th>\n",
       "    </tr>\n",
       "    <tr>\n",
       "      <th>Agg_Name</th>\n",
       "      <th></th>\n",
       "      <th></th>\n",
       "      <th></th>\n",
       "      <th></th>\n",
       "      <th></th>\n",
       "      <th></th>\n",
       "      <th></th>\n",
       "      <th></th>\n",
       "    </tr>\n",
       "  </thead>\n",
       "  <tbody>\n",
       "    <tr>\n",
       "      <th>100% AGAVE TEQUILA_50</th>\n",
       "      <td>237.0</td>\n",
       "      <td>55.160338</td>\n",
       "      <td>514.409180</td>\n",
       "      <td>0.0</td>\n",
       "      <td>0.0</td>\n",
       "      <td>0.0</td>\n",
       "      <td>0.0</td>\n",
       "      <td>7241.0</td>\n",
       "    </tr>\n",
       "    <tr>\n",
       "      <th>100% AGAVE TEQUILA_100</th>\n",
       "      <td>237.0</td>\n",
       "      <td>62.616034</td>\n",
       "      <td>800.886363</td>\n",
       "      <td>0.0</td>\n",
       "      <td>0.0</td>\n",
       "      <td>0.0</td>\n",
       "      <td>0.0</td>\n",
       "      <td>12013.0</td>\n",
       "    </tr>\n",
       "    <tr>\n",
       "      <th>IMPORTED VODKAS_375</th>\n",
       "      <td>237.0</td>\n",
       "      <td>253.759494</td>\n",
       "      <td>2552.121307</td>\n",
       "      <td>0.0</td>\n",
       "      <td>0.0</td>\n",
       "      <td>0.0</td>\n",
       "      <td>0.0</td>\n",
       "      <td>32322.0</td>\n",
       "    </tr>\n",
       "    <tr>\n",
       "      <th>IMPORTED VODKAS_750</th>\n",
       "      <td>237.0</td>\n",
       "      <td>1123.928270</td>\n",
       "      <td>7781.123742</td>\n",
       "      <td>0.0</td>\n",
       "      <td>0.0</td>\n",
       "      <td>0.0</td>\n",
       "      <td>0.0</td>\n",
       "      <td>101250.0</td>\n",
       "    </tr>\n",
       "    <tr>\n",
       "      <th>IMPORTED VODKAS_1000</th>\n",
       "      <td>237.0</td>\n",
       "      <td>430.569620</td>\n",
       "      <td>3768.876647</td>\n",
       "      <td>0.0</td>\n",
       "      <td>0.0</td>\n",
       "      <td>0.0</td>\n",
       "      <td>0.0</td>\n",
       "      <td>42557.0</td>\n",
       "    </tr>\n",
       "    <tr>\n",
       "      <th>...</th>\n",
       "      <td>...</td>\n",
       "      <td>...</td>\n",
       "      <td>...</td>\n",
       "      <td>...</td>\n",
       "      <td>...</td>\n",
       "      <td>...</td>\n",
       "      <td>...</td>\n",
       "      <td>...</td>\n",
       "    </tr>\n",
       "    <tr>\n",
       "      <th>IMPORTED DISTILLED SPIRITS SPECIALTY_750</th>\n",
       "      <td>237.0</td>\n",
       "      <td>67.535865</td>\n",
       "      <td>393.215002</td>\n",
       "      <td>0.0</td>\n",
       "      <td>0.0</td>\n",
       "      <td>0.0</td>\n",
       "      <td>0.0</td>\n",
       "      <td>3743.0</td>\n",
       "    </tr>\n",
       "    <tr>\n",
       "      <th>IMPORTED DRY GINS_50</th>\n",
       "      <td>237.0</td>\n",
       "      <td>0.092827</td>\n",
       "      <td>1.108438</td>\n",
       "      <td>0.0</td>\n",
       "      <td>0.0</td>\n",
       "      <td>0.0</td>\n",
       "      <td>0.0</td>\n",
       "      <td>16.0</td>\n",
       "    </tr>\n",
       "    <tr>\n",
       "      <th>IMPORTED DRY GINS_750</th>\n",
       "      <td>237.0</td>\n",
       "      <td>451.742616</td>\n",
       "      <td>3238.660536</td>\n",
       "      <td>0.0</td>\n",
       "      <td>0.0</td>\n",
       "      <td>0.0</td>\n",
       "      <td>0.0</td>\n",
       "      <td>38711.0</td>\n",
       "    </tr>\n",
       "    <tr>\n",
       "      <th>IMPORTED DRY GINS_1000</th>\n",
       "      <td>237.0</td>\n",
       "      <td>278.497890</td>\n",
       "      <td>2479.676243</td>\n",
       "      <td>0.0</td>\n",
       "      <td>0.0</td>\n",
       "      <td>0.0</td>\n",
       "      <td>0.0</td>\n",
       "      <td>32818.0</td>\n",
       "    </tr>\n",
       "    <tr>\n",
       "      <th>WHITE RUM_1750</th>\n",
       "      <td>237.0</td>\n",
       "      <td>579.502110</td>\n",
       "      <td>5764.172546</td>\n",
       "      <td>0.0</td>\n",
       "      <td>0.0</td>\n",
       "      <td>0.0</td>\n",
       "      <td>0.0</td>\n",
       "      <td>73920.0</td>\n",
       "    </tr>\n",
       "  </tbody>\n",
       "</table>\n",
       "<p>64 rows × 8 columns</p>\n",
       "</div>"
      ],
      "text/plain": [
       "                                          count         mean          std  \\\n",
       "Agg_Name                                                                    \n",
       "100% AGAVE TEQUILA_50                     237.0    55.160338   514.409180   \n",
       "100% AGAVE TEQUILA_100                    237.0    62.616034   800.886363   \n",
       "IMPORTED VODKAS_375                       237.0   253.759494  2552.121307   \n",
       "IMPORTED VODKAS_750                       237.0  1123.928270  7781.123742   \n",
       "IMPORTED VODKAS_1000                      237.0   430.569620  3768.876647   \n",
       "...                                         ...          ...          ...   \n",
       "IMPORTED DISTILLED SPIRITS SPECIALTY_750  237.0    67.535865   393.215002   \n",
       "IMPORTED DRY GINS_50                      237.0     0.092827     1.108438   \n",
       "IMPORTED DRY GINS_750                     237.0   451.742616  3238.660536   \n",
       "IMPORTED DRY GINS_1000                    237.0   278.497890  2479.676243   \n",
       "WHITE RUM_1750                            237.0   579.502110  5764.172546   \n",
       "\n",
       "                                          min  25%  50%  75%       max  \n",
       "Agg_Name                                                                \n",
       "100% AGAVE TEQUILA_50                     0.0  0.0  0.0  0.0    7241.0  \n",
       "100% AGAVE TEQUILA_100                    0.0  0.0  0.0  0.0   12013.0  \n",
       "IMPORTED VODKAS_375                       0.0  0.0  0.0  0.0   32322.0  \n",
       "IMPORTED VODKAS_750                       0.0  0.0  0.0  0.0  101250.0  \n",
       "IMPORTED VODKAS_1000                      0.0  0.0  0.0  0.0   42557.0  \n",
       "...                                       ...  ...  ...  ...       ...  \n",
       "IMPORTED DISTILLED SPIRITS SPECIALTY_750  0.0  0.0  0.0  0.0    3743.0  \n",
       "IMPORTED DRY GINS_50                      0.0  0.0  0.0  0.0      16.0  \n",
       "IMPORTED DRY GINS_750                     0.0  0.0  0.0  0.0   38711.0  \n",
       "IMPORTED DRY GINS_1000                    0.0  0.0  0.0  0.0   32818.0  \n",
       "WHITE RUM_1750                            0.0  0.0  0.0  0.0   73920.0  \n",
       "\n",
       "[64 rows x 8 columns]"
      ]
     },
     "execution_count": 298,
     "metadata": {},
     "output_type": "execute_result"
    }
   ],
   "source": [
    "table.describe().T.sort_values('count', ascending=False)"
   ]
  },
  {
   "cell_type": "code",
   "execution_count": 349,
   "metadata": {},
   "outputs": [
    {
     "data": {
      "text/html": [
       "<div>\n",
       "<style scoped>\n",
       "    .dataframe tbody tr th:only-of-type {\n",
       "        vertical-align: middle;\n",
       "    }\n",
       "\n",
       "    .dataframe tbody tr th {\n",
       "        vertical-align: top;\n",
       "    }\n",
       "\n",
       "    .dataframe thead th {\n",
       "        text-align: right;\n",
       "    }\n",
       "</style>\n",
       "<table border=\"1\" class=\"dataframe\">\n",
       "  <thead>\n",
       "    <tr style=\"text-align: right;\">\n",
       "      <th></th>\n",
       "      <th>n_clusters</th>\n",
       "      <th>labels</th>\n",
       "      <th>inertia</th>\n",
       "    </tr>\n",
       "  </thead>\n",
       "  <tbody>\n",
       "    <tr>\n",
       "      <th>0</th>\n",
       "      <td>1</td>\n",
       "      <td>[0, 0, 0, 0, 0, 0, 0, 0, 0, 0, 0, 0, 0, 0, 0, ...</td>\n",
       "      <td>70496.250000</td>\n",
       "    </tr>\n",
       "    <tr>\n",
       "      <th>1</th>\n",
       "      <td>2</td>\n",
       "      <td>[0, 0, 0, 0, 0, 1, 1, 0, 0, 0, 0, 1, 1, 0, 0, ...</td>\n",
       "      <td>41484.804688</td>\n",
       "    </tr>\n",
       "    <tr>\n",
       "      <th>2</th>\n",
       "      <td>3</td>\n",
       "      <td>[0, 2, 0, 2, 2, 1, 2, 0, 0, 2, 2, 1, 1, 2, 0, ...</td>\n",
       "      <td>28134.673828</td>\n",
       "    </tr>\n",
       "    <tr>\n",
       "      <th>3</th>\n",
       "      <td>4</td>\n",
       "      <td>[3, 2, 3, 2, 2, 0, 2, 3, 3, 2, 2, 1, 1, 2, 0, ...</td>\n",
       "      <td>22806.513672</td>\n",
       "    </tr>\n",
       "    <tr>\n",
       "      <th>4</th>\n",
       "      <td>5</td>\n",
       "      <td>[3, 2, 3, 2, 2, 4, 2, 3, 3, 2, 0, 1, 1, 2, 4, ...</td>\n",
       "      <td>17397.933594</td>\n",
       "    </tr>\n",
       "    <tr>\n",
       "      <th>5</th>\n",
       "      <td>6</td>\n",
       "      <td>[3, 2, 3, 2, 2, 4, 2, 3, 3, 2, 0, 1, 1, 2, 5, ...</td>\n",
       "      <td>13726.029297</td>\n",
       "    </tr>\n",
       "    <tr>\n",
       "      <th>6</th>\n",
       "      <td>7</td>\n",
       "      <td>[0, 2, 3, 6, 6, 4, 6, 3, 3, 2, 0, 1, 1, 2, 5, ...</td>\n",
       "      <td>10659.005859</td>\n",
       "    </tr>\n",
       "    <tr>\n",
       "      <th>7</th>\n",
       "      <td>8</td>\n",
       "      <td>[0, 2, 0, 4, 4, 3, 4, 0, 5, 2, 6, 1, 7, 2, 5, ...</td>\n",
       "      <td>10679.572266</td>\n",
       "    </tr>\n",
       "    <tr>\n",
       "      <th>8</th>\n",
       "      <td>9</td>\n",
       "      <td>[0, 2, 8, 4, 4, 3, 4, 8, 8, 2, 0, 1, 6, 2, 5, ...</td>\n",
       "      <td>8170.953613</td>\n",
       "    </tr>\n",
       "    <tr>\n",
       "      <th>9</th>\n",
       "      <td>10</td>\n",
       "      <td>[0, 2, 8, 4, 4, 3, 4, 8, 8, 2, 6, 1, 9, 2, 5, ...</td>\n",
       "      <td>7377.158203</td>\n",
       "    </tr>\n",
       "    <tr>\n",
       "      <th>10</th>\n",
       "      <td>11</td>\n",
       "      <td>[10, 2, 10, 4, 4, 3, 4, 10, 8, 2, 6, 1, 9, 2, ...</td>\n",
       "      <td>6639.198242</td>\n",
       "    </tr>\n",
       "    <tr>\n",
       "      <th>11</th>\n",
       "      <td>12</td>\n",
       "      <td>[10, 2, 10, 4, 4, 3, 4, 10, 8, 2, 6, 1, 9, 2, ...</td>\n",
       "      <td>6193.928711</td>\n",
       "    </tr>\n",
       "    <tr>\n",
       "      <th>12</th>\n",
       "      <td>13</td>\n",
       "      <td>[10, 2, 10, 4, 4, 3, 4, 10, 8, 2, 6, 12, 9, 2,...</td>\n",
       "      <td>5819.810547</td>\n",
       "    </tr>\n",
       "    <tr>\n",
       "      <th>13</th>\n",
       "      <td>14</td>\n",
       "      <td>[10, 2, 10, 4, 4, 13, 4, 10, 8, 2, 6, 12, 9, 2...</td>\n",
       "      <td>5115.478027</td>\n",
       "    </tr>\n",
       "    <tr>\n",
       "      <th>14</th>\n",
       "      <td>15</td>\n",
       "      <td>[14, 2, 14, 4, 4, 13, 4, 14, 8, 10, 6, 12, 9, ...</td>\n",
       "      <td>4756.589355</td>\n",
       "    </tr>\n",
       "    <tr>\n",
       "      <th>15</th>\n",
       "      <td>16</td>\n",
       "      <td>[14, 6, 14, 4, 4, 13, 4, 14, 8, 15, 6, 12, 9, ...</td>\n",
       "      <td>4695.788086</td>\n",
       "    </tr>\n",
       "    <tr>\n",
       "      <th>16</th>\n",
       "      <td>17</td>\n",
       "      <td>[14, 6, 14, 4, 4, 13, 4, 14, 8, 15, 16, 12, 9,...</td>\n",
       "      <td>4226.908203</td>\n",
       "    </tr>\n",
       "    <tr>\n",
       "      <th>17</th>\n",
       "      <td>18</td>\n",
       "      <td>[14, 6, 14, 4, 4, 13, 4, 14, 8, 15, 16, 12, 9,...</td>\n",
       "      <td>3720.512451</td>\n",
       "    </tr>\n",
       "    <tr>\n",
       "      <th>18</th>\n",
       "      <td>19</td>\n",
       "      <td>[14, 6, 14, 4, 4, 13, 4, 14, 8, 15, 16, 12, 18...</td>\n",
       "      <td>3569.083496</td>\n",
       "    </tr>\n",
       "    <tr>\n",
       "      <th>19</th>\n",
       "      <td>20</td>\n",
       "      <td>[14, 6, 14, 4, 4, 13, 4, 14, 8, 15, 16, 12, 18...</td>\n",
       "      <td>3357.503418</td>\n",
       "    </tr>\n",
       "  </tbody>\n",
       "</table>\n",
       "</div>"
      ],
      "text/plain": [
       "    n_clusters                                             labels  \\\n",
       "0            1  [0, 0, 0, 0, 0, 0, 0, 0, 0, 0, 0, 0, 0, 0, 0, ...   \n",
       "1            2  [0, 0, 0, 0, 0, 1, 1, 0, 0, 0, 0, 1, 1, 0, 0, ...   \n",
       "2            3  [0, 2, 0, 2, 2, 1, 2, 0, 0, 2, 2, 1, 1, 2, 0, ...   \n",
       "3            4  [3, 2, 3, 2, 2, 0, 2, 3, 3, 2, 2, 1, 1, 2, 0, ...   \n",
       "4            5  [3, 2, 3, 2, 2, 4, 2, 3, 3, 2, 0, 1, 1, 2, 4, ...   \n",
       "5            6  [3, 2, 3, 2, 2, 4, 2, 3, 3, 2, 0, 1, 1, 2, 5, ...   \n",
       "6            7  [0, 2, 3, 6, 6, 4, 6, 3, 3, 2, 0, 1, 1, 2, 5, ...   \n",
       "7            8  [0, 2, 0, 4, 4, 3, 4, 0, 5, 2, 6, 1, 7, 2, 5, ...   \n",
       "8            9  [0, 2, 8, 4, 4, 3, 4, 8, 8, 2, 0, 1, 6, 2, 5, ...   \n",
       "9           10  [0, 2, 8, 4, 4, 3, 4, 8, 8, 2, 6, 1, 9, 2, 5, ...   \n",
       "10          11  [10, 2, 10, 4, 4, 3, 4, 10, 8, 2, 6, 1, 9, 2, ...   \n",
       "11          12  [10, 2, 10, 4, 4, 3, 4, 10, 8, 2, 6, 1, 9, 2, ...   \n",
       "12          13  [10, 2, 10, 4, 4, 3, 4, 10, 8, 2, 6, 12, 9, 2,...   \n",
       "13          14  [10, 2, 10, 4, 4, 13, 4, 10, 8, 2, 6, 12, 9, 2...   \n",
       "14          15  [14, 2, 14, 4, 4, 13, 4, 14, 8, 10, 6, 12, 9, ...   \n",
       "15          16  [14, 6, 14, 4, 4, 13, 4, 14, 8, 15, 6, 12, 9, ...   \n",
       "16          17  [14, 6, 14, 4, 4, 13, 4, 14, 8, 15, 16, 12, 9,...   \n",
       "17          18  [14, 6, 14, 4, 4, 13, 4, 14, 8, 15, 16, 12, 9,...   \n",
       "18          19  [14, 6, 14, 4, 4, 13, 4, 14, 8, 15, 16, 12, 18...   \n",
       "19          20  [14, 6, 14, 4, 4, 13, 4, 14, 8, 15, 16, 12, 18...   \n",
       "\n",
       "         inertia  \n",
       "0   70496.250000  \n",
       "1   41484.804688  \n",
       "2   28134.673828  \n",
       "3   22806.513672  \n",
       "4   17397.933594  \n",
       "5   13726.029297  \n",
       "6   10659.005859  \n",
       "7   10679.572266  \n",
       "8    8170.953613  \n",
       "9    7377.158203  \n",
       "10   6639.198242  \n",
       "11   6193.928711  \n",
       "12   5819.810547  \n",
       "13   5115.478027  \n",
       "14   4756.589355  \n",
       "15   4695.788086  \n",
       "16   4226.908203  \n",
       "17   3720.512451  \n",
       "18   3569.083496  \n",
       "19   3357.503418  "
      ]
     },
     "execution_count": 349,
     "metadata": {},
     "output_type": "execute_result"
    }
   ],
   "source": [
    "scaler = MinMaxScaler()\n",
    "X = scaler.fit_transform(np.array(table.drop(['Vendor Name'], axis=1)))\n",
    "\n",
    "tsne = TSNE(n_components=2, perplexity=15)\n",
    "embed_fit = tsne.fit_transform(X)\n",
    "\n",
    "names = list(table['Vendor Name'])\n",
    "\n",
    "history = []\n",
    "for i in range(20):\n",
    "    kmeans = KMeans(n_clusters=i+1, random_state=0, n_init='auto').fit(embed_fit)\n",
    "    labels = kmeans.labels_\n",
    "    inertia = kmeans.inertia_\n",
    "    history.append([(i+1), labels, inertia])\n",
    "\n",
    "history = pd.DataFrame(history, columns=['n_clusters', 'labels', 'inertia'])\n",
    "history"
   ]
  },
  {
   "cell_type": "code",
   "execution_count": 350,
   "metadata": {},
   "outputs": [
    {
     "data": {
      "application/vnd.plotly.v1+json": {
       "config": {
        "plotlyServerURL": "https://plot.ly"
       },
       "data": [
        {
         "hovertemplate": "n_clusters=%{x}<br>inertia=%{y}<extra></extra>",
         "legendgroup": "",
         "line": {
          "color": "#636efa",
          "dash": "solid"
         },
         "marker": {
          "symbol": "circle"
         },
         "mode": "lines",
         "name": "",
         "orientation": "v",
         "showlegend": false,
         "type": "scatter",
         "x": [
          1,
          2,
          3,
          4,
          5,
          6,
          7,
          8,
          9,
          10,
          11,
          12,
          13,
          14,
          15,
          16,
          17,
          18,
          19,
          20
         ],
         "xaxis": "x",
         "y": [
          70496.25,
          41484.8046875,
          28134.673828125,
          22806.513671875,
          17397.93359375,
          13726.029296875,
          10659.005859375,
          10679.572265625,
          8170.95361328125,
          7377.158203125,
          6639.1982421875,
          6193.9287109375,
          5819.810546875,
          5115.47802734375,
          4756.58935546875,
          4695.7880859375,
          4226.908203125,
          3720.512451171875,
          3569.08349609375,
          3357.50341796875
         ],
         "yaxis": "y"
        }
       ],
       "layout": {
        "legend": {
         "tracegroupgap": 0
        },
        "margin": {
         "t": 60
        },
        "template": {
         "data": {
          "bar": [
           {
            "error_x": {
             "color": "#2a3f5f"
            },
            "error_y": {
             "color": "#2a3f5f"
            },
            "marker": {
             "line": {
              "color": "#E5ECF6",
              "width": 0.5
             },
             "pattern": {
              "fillmode": "overlay",
              "size": 10,
              "solidity": 0.2
             }
            },
            "type": "bar"
           }
          ],
          "barpolar": [
           {
            "marker": {
             "line": {
              "color": "#E5ECF6",
              "width": 0.5
             },
             "pattern": {
              "fillmode": "overlay",
              "size": 10,
              "solidity": 0.2
             }
            },
            "type": "barpolar"
           }
          ],
          "carpet": [
           {
            "aaxis": {
             "endlinecolor": "#2a3f5f",
             "gridcolor": "white",
             "linecolor": "white",
             "minorgridcolor": "white",
             "startlinecolor": "#2a3f5f"
            },
            "baxis": {
             "endlinecolor": "#2a3f5f",
             "gridcolor": "white",
             "linecolor": "white",
             "minorgridcolor": "white",
             "startlinecolor": "#2a3f5f"
            },
            "type": "carpet"
           }
          ],
          "choropleth": [
           {
            "colorbar": {
             "outlinewidth": 0,
             "ticks": ""
            },
            "type": "choropleth"
           }
          ],
          "contour": [
           {
            "colorbar": {
             "outlinewidth": 0,
             "ticks": ""
            },
            "colorscale": [
             [
              0,
              "#0d0887"
             ],
             [
              0.1111111111111111,
              "#46039f"
             ],
             [
              0.2222222222222222,
              "#7201a8"
             ],
             [
              0.3333333333333333,
              "#9c179e"
             ],
             [
              0.4444444444444444,
              "#bd3786"
             ],
             [
              0.5555555555555556,
              "#d8576b"
             ],
             [
              0.6666666666666666,
              "#ed7953"
             ],
             [
              0.7777777777777778,
              "#fb9f3a"
             ],
             [
              0.8888888888888888,
              "#fdca26"
             ],
             [
              1,
              "#f0f921"
             ]
            ],
            "type": "contour"
           }
          ],
          "contourcarpet": [
           {
            "colorbar": {
             "outlinewidth": 0,
             "ticks": ""
            },
            "type": "contourcarpet"
           }
          ],
          "heatmap": [
           {
            "colorbar": {
             "outlinewidth": 0,
             "ticks": ""
            },
            "colorscale": [
             [
              0,
              "#0d0887"
             ],
             [
              0.1111111111111111,
              "#46039f"
             ],
             [
              0.2222222222222222,
              "#7201a8"
             ],
             [
              0.3333333333333333,
              "#9c179e"
             ],
             [
              0.4444444444444444,
              "#bd3786"
             ],
             [
              0.5555555555555556,
              "#d8576b"
             ],
             [
              0.6666666666666666,
              "#ed7953"
             ],
             [
              0.7777777777777778,
              "#fb9f3a"
             ],
             [
              0.8888888888888888,
              "#fdca26"
             ],
             [
              1,
              "#f0f921"
             ]
            ],
            "type": "heatmap"
           }
          ],
          "heatmapgl": [
           {
            "colorbar": {
             "outlinewidth": 0,
             "ticks": ""
            },
            "colorscale": [
             [
              0,
              "#0d0887"
             ],
             [
              0.1111111111111111,
              "#46039f"
             ],
             [
              0.2222222222222222,
              "#7201a8"
             ],
             [
              0.3333333333333333,
              "#9c179e"
             ],
             [
              0.4444444444444444,
              "#bd3786"
             ],
             [
              0.5555555555555556,
              "#d8576b"
             ],
             [
              0.6666666666666666,
              "#ed7953"
             ],
             [
              0.7777777777777778,
              "#fb9f3a"
             ],
             [
              0.8888888888888888,
              "#fdca26"
             ],
             [
              1,
              "#f0f921"
             ]
            ],
            "type": "heatmapgl"
           }
          ],
          "histogram": [
           {
            "marker": {
             "pattern": {
              "fillmode": "overlay",
              "size": 10,
              "solidity": 0.2
             }
            },
            "type": "histogram"
           }
          ],
          "histogram2d": [
           {
            "colorbar": {
             "outlinewidth": 0,
             "ticks": ""
            },
            "colorscale": [
             [
              0,
              "#0d0887"
             ],
             [
              0.1111111111111111,
              "#46039f"
             ],
             [
              0.2222222222222222,
              "#7201a8"
             ],
             [
              0.3333333333333333,
              "#9c179e"
             ],
             [
              0.4444444444444444,
              "#bd3786"
             ],
             [
              0.5555555555555556,
              "#d8576b"
             ],
             [
              0.6666666666666666,
              "#ed7953"
             ],
             [
              0.7777777777777778,
              "#fb9f3a"
             ],
             [
              0.8888888888888888,
              "#fdca26"
             ],
             [
              1,
              "#f0f921"
             ]
            ],
            "type": "histogram2d"
           }
          ],
          "histogram2dcontour": [
           {
            "colorbar": {
             "outlinewidth": 0,
             "ticks": ""
            },
            "colorscale": [
             [
              0,
              "#0d0887"
             ],
             [
              0.1111111111111111,
              "#46039f"
             ],
             [
              0.2222222222222222,
              "#7201a8"
             ],
             [
              0.3333333333333333,
              "#9c179e"
             ],
             [
              0.4444444444444444,
              "#bd3786"
             ],
             [
              0.5555555555555556,
              "#d8576b"
             ],
             [
              0.6666666666666666,
              "#ed7953"
             ],
             [
              0.7777777777777778,
              "#fb9f3a"
             ],
             [
              0.8888888888888888,
              "#fdca26"
             ],
             [
              1,
              "#f0f921"
             ]
            ],
            "type": "histogram2dcontour"
           }
          ],
          "mesh3d": [
           {
            "colorbar": {
             "outlinewidth": 0,
             "ticks": ""
            },
            "type": "mesh3d"
           }
          ],
          "parcoords": [
           {
            "line": {
             "colorbar": {
              "outlinewidth": 0,
              "ticks": ""
             }
            },
            "type": "parcoords"
           }
          ],
          "pie": [
           {
            "automargin": true,
            "type": "pie"
           }
          ],
          "scatter": [
           {
            "fillpattern": {
             "fillmode": "overlay",
             "size": 10,
             "solidity": 0.2
            },
            "type": "scatter"
           }
          ],
          "scatter3d": [
           {
            "line": {
             "colorbar": {
              "outlinewidth": 0,
              "ticks": ""
             }
            },
            "marker": {
             "colorbar": {
              "outlinewidth": 0,
              "ticks": ""
             }
            },
            "type": "scatter3d"
           }
          ],
          "scattercarpet": [
           {
            "marker": {
             "colorbar": {
              "outlinewidth": 0,
              "ticks": ""
             }
            },
            "type": "scattercarpet"
           }
          ],
          "scattergeo": [
           {
            "marker": {
             "colorbar": {
              "outlinewidth": 0,
              "ticks": ""
             }
            },
            "type": "scattergeo"
           }
          ],
          "scattergl": [
           {
            "marker": {
             "colorbar": {
              "outlinewidth": 0,
              "ticks": ""
             }
            },
            "type": "scattergl"
           }
          ],
          "scattermapbox": [
           {
            "marker": {
             "colorbar": {
              "outlinewidth": 0,
              "ticks": ""
             }
            },
            "type": "scattermapbox"
           }
          ],
          "scatterpolar": [
           {
            "marker": {
             "colorbar": {
              "outlinewidth": 0,
              "ticks": ""
             }
            },
            "type": "scatterpolar"
           }
          ],
          "scatterpolargl": [
           {
            "marker": {
             "colorbar": {
              "outlinewidth": 0,
              "ticks": ""
             }
            },
            "type": "scatterpolargl"
           }
          ],
          "scatterternary": [
           {
            "marker": {
             "colorbar": {
              "outlinewidth": 0,
              "ticks": ""
             }
            },
            "type": "scatterternary"
           }
          ],
          "surface": [
           {
            "colorbar": {
             "outlinewidth": 0,
             "ticks": ""
            },
            "colorscale": [
             [
              0,
              "#0d0887"
             ],
             [
              0.1111111111111111,
              "#46039f"
             ],
             [
              0.2222222222222222,
              "#7201a8"
             ],
             [
              0.3333333333333333,
              "#9c179e"
             ],
             [
              0.4444444444444444,
              "#bd3786"
             ],
             [
              0.5555555555555556,
              "#d8576b"
             ],
             [
              0.6666666666666666,
              "#ed7953"
             ],
             [
              0.7777777777777778,
              "#fb9f3a"
             ],
             [
              0.8888888888888888,
              "#fdca26"
             ],
             [
              1,
              "#f0f921"
             ]
            ],
            "type": "surface"
           }
          ],
          "table": [
           {
            "cells": {
             "fill": {
              "color": "#EBF0F8"
             },
             "line": {
              "color": "white"
             }
            },
            "header": {
             "fill": {
              "color": "#C8D4E3"
             },
             "line": {
              "color": "white"
             }
            },
            "type": "table"
           }
          ]
         },
         "layout": {
          "annotationdefaults": {
           "arrowcolor": "#2a3f5f",
           "arrowhead": 0,
           "arrowwidth": 1
          },
          "autotypenumbers": "strict",
          "coloraxis": {
           "colorbar": {
            "outlinewidth": 0,
            "ticks": ""
           }
          },
          "colorscale": {
           "diverging": [
            [
             0,
             "#8e0152"
            ],
            [
             0.1,
             "#c51b7d"
            ],
            [
             0.2,
             "#de77ae"
            ],
            [
             0.3,
             "#f1b6da"
            ],
            [
             0.4,
             "#fde0ef"
            ],
            [
             0.5,
             "#f7f7f7"
            ],
            [
             0.6,
             "#e6f5d0"
            ],
            [
             0.7,
             "#b8e186"
            ],
            [
             0.8,
             "#7fbc41"
            ],
            [
             0.9,
             "#4d9221"
            ],
            [
             1,
             "#276419"
            ]
           ],
           "sequential": [
            [
             0,
             "#0d0887"
            ],
            [
             0.1111111111111111,
             "#46039f"
            ],
            [
             0.2222222222222222,
             "#7201a8"
            ],
            [
             0.3333333333333333,
             "#9c179e"
            ],
            [
             0.4444444444444444,
             "#bd3786"
            ],
            [
             0.5555555555555556,
             "#d8576b"
            ],
            [
             0.6666666666666666,
             "#ed7953"
            ],
            [
             0.7777777777777778,
             "#fb9f3a"
            ],
            [
             0.8888888888888888,
             "#fdca26"
            ],
            [
             1,
             "#f0f921"
            ]
           ],
           "sequentialminus": [
            [
             0,
             "#0d0887"
            ],
            [
             0.1111111111111111,
             "#46039f"
            ],
            [
             0.2222222222222222,
             "#7201a8"
            ],
            [
             0.3333333333333333,
             "#9c179e"
            ],
            [
             0.4444444444444444,
             "#bd3786"
            ],
            [
             0.5555555555555556,
             "#d8576b"
            ],
            [
             0.6666666666666666,
             "#ed7953"
            ],
            [
             0.7777777777777778,
             "#fb9f3a"
            ],
            [
             0.8888888888888888,
             "#fdca26"
            ],
            [
             1,
             "#f0f921"
            ]
           ]
          },
          "colorway": [
           "#636efa",
           "#EF553B",
           "#00cc96",
           "#ab63fa",
           "#FFA15A",
           "#19d3f3",
           "#FF6692",
           "#B6E880",
           "#FF97FF",
           "#FECB52"
          ],
          "font": {
           "color": "#2a3f5f"
          },
          "geo": {
           "bgcolor": "white",
           "lakecolor": "white",
           "landcolor": "#E5ECF6",
           "showlakes": true,
           "showland": true,
           "subunitcolor": "white"
          },
          "hoverlabel": {
           "align": "left"
          },
          "hovermode": "closest",
          "mapbox": {
           "style": "light"
          },
          "paper_bgcolor": "white",
          "plot_bgcolor": "#E5ECF6",
          "polar": {
           "angularaxis": {
            "gridcolor": "white",
            "linecolor": "white",
            "ticks": ""
           },
           "bgcolor": "#E5ECF6",
           "radialaxis": {
            "gridcolor": "white",
            "linecolor": "white",
            "ticks": ""
           }
          },
          "scene": {
           "xaxis": {
            "backgroundcolor": "#E5ECF6",
            "gridcolor": "white",
            "gridwidth": 2,
            "linecolor": "white",
            "showbackground": true,
            "ticks": "",
            "zerolinecolor": "white"
           },
           "yaxis": {
            "backgroundcolor": "#E5ECF6",
            "gridcolor": "white",
            "gridwidth": 2,
            "linecolor": "white",
            "showbackground": true,
            "ticks": "",
            "zerolinecolor": "white"
           },
           "zaxis": {
            "backgroundcolor": "#E5ECF6",
            "gridcolor": "white",
            "gridwidth": 2,
            "linecolor": "white",
            "showbackground": true,
            "ticks": "",
            "zerolinecolor": "white"
           }
          },
          "shapedefaults": {
           "line": {
            "color": "#2a3f5f"
           }
          },
          "ternary": {
           "aaxis": {
            "gridcolor": "white",
            "linecolor": "white",
            "ticks": ""
           },
           "baxis": {
            "gridcolor": "white",
            "linecolor": "white",
            "ticks": ""
           },
           "bgcolor": "#E5ECF6",
           "caxis": {
            "gridcolor": "white",
            "linecolor": "white",
            "ticks": ""
           }
          },
          "title": {
           "x": 0.05
          },
          "xaxis": {
           "automargin": true,
           "gridcolor": "white",
           "linecolor": "white",
           "ticks": "",
           "title": {
            "standoff": 15
           },
           "zerolinecolor": "white",
           "zerolinewidth": 2
          },
          "yaxis": {
           "automargin": true,
           "gridcolor": "white",
           "linecolor": "white",
           "ticks": "",
           "title": {
            "standoff": 15
           },
           "zerolinecolor": "white",
           "zerolinewidth": 2
          }
         }
        },
        "xaxis": {
         "anchor": "y",
         "domain": [
          0,
          1
         ],
         "title": {
          "text": "n_clusters"
         }
        },
        "yaxis": {
         "anchor": "x",
         "domain": [
          0,
          1
         ],
         "title": {
          "text": "inertia"
         }
        }
       }
      }
     },
     "metadata": {},
     "output_type": "display_data"
    }
   ],
   "source": [
    "px.line(history, x='n_clusters', y='inertia')\n",
    "# Looks like 6 clusters forms an elbow."
   ]
  },
  {
   "cell_type": "code",
   "execution_count": 363,
   "metadata": {},
   "outputs": [
    {
     "data": {
      "text/html": [
       "<div>\n",
       "<style scoped>\n",
       "    .dataframe tbody tr th:only-of-type {\n",
       "        vertical-align: middle;\n",
       "    }\n",
       "\n",
       "    .dataframe tbody tr th {\n",
       "        vertical-align: top;\n",
       "    }\n",
       "\n",
       "    .dataframe thead th {\n",
       "        text-align: right;\n",
       "    }\n",
       "</style>\n",
       "<table border=\"1\" class=\"dataframe\">\n",
       "  <thead>\n",
       "    <tr style=\"text-align: right;\">\n",
       "      <th></th>\n",
       "      <th>Brand</th>\n",
       "      <th>label</th>\n",
       "      <th>X</th>\n",
       "      <th>Y</th>\n",
       "    </tr>\n",
       "  </thead>\n",
       "  <tbody>\n",
       "    <tr>\n",
       "      <th>0</th>\n",
       "      <td>173 CRAFT DISTILLERY</td>\n",
       "      <td>3</td>\n",
       "      <td>5.905040</td>\n",
       "      <td>13.891884</td>\n",
       "    </tr>\n",
       "    <tr>\n",
       "      <th>1</th>\n",
       "      <td>21ST CENTURY SPIRITS LLC</td>\n",
       "      <td>2</td>\n",
       "      <td>14.277925</td>\n",
       "      <td>4.328492</td>\n",
       "    </tr>\n",
       "    <tr>\n",
       "      <th>2</th>\n",
       "      <td>3 BADGE CORPORATION</td>\n",
       "      <td>3</td>\n",
       "      <td>9.633894</td>\n",
       "      <td>20.597061</td>\n",
       "    </tr>\n",
       "    <tr>\n",
       "      <th>3</th>\n",
       "      <td>3-OAKS DISTILLERY, LLC</td>\n",
       "      <td>2</td>\n",
       "      <td>13.246187</td>\n",
       "      <td>-6.646710</td>\n",
       "    </tr>\n",
       "    <tr>\n",
       "      <th>4</th>\n",
       "      <td>45TH PARALLEL SPIRITS</td>\n",
       "      <td>2</td>\n",
       "      <td>14.011823</td>\n",
       "      <td>-8.463009</td>\n",
       "    </tr>\n",
       "    <tr>\n",
       "      <th>...</th>\n",
       "      <td>...</td>\n",
       "      <td>...</td>\n",
       "      <td>...</td>\n",
       "      <td>...</td>\n",
       "    </tr>\n",
       "    <tr>\n",
       "      <th>232</th>\n",
       "      <td>WMC-PBD LLC/ PINE BLUFFS DISTILLING</td>\n",
       "      <td>2</td>\n",
       "      <td>3.027181</td>\n",
       "      <td>-6.797962</td>\n",
       "    </tr>\n",
       "    <tr>\n",
       "      <th>233</th>\n",
       "      <td>WOODY CREEK DISTILLERS LLC</td>\n",
       "      <td>2</td>\n",
       "      <td>13.757389</td>\n",
       "      <td>-7.057111</td>\n",
       "    </tr>\n",
       "    <tr>\n",
       "      <th>234</th>\n",
       "      <td>WORLD TRADE LIQUOR IMPORTS LLC</td>\n",
       "      <td>0</td>\n",
       "      <td>-14.723955</td>\n",
       "      <td>15.020766</td>\n",
       "    </tr>\n",
       "    <tr>\n",
       "      <th>235</th>\n",
       "      <td>WORLDWIDE LIBATIONS, LLC</td>\n",
       "      <td>0</td>\n",
       "      <td>-6.724672</td>\n",
       "      <td>5.764702</td>\n",
       "    </tr>\n",
       "    <tr>\n",
       "      <th>236</th>\n",
       "      <td>WRS CO. LLC / WRS IMPORTS</td>\n",
       "      <td>0</td>\n",
       "      <td>-4.777681</td>\n",
       "      <td>8.507023</td>\n",
       "    </tr>\n",
       "  </tbody>\n",
       "</table>\n",
       "<p>237 rows × 4 columns</p>\n",
       "</div>"
      ],
      "text/plain": [
       "                                   Brand  label          X          Y\n",
       "0                   173 CRAFT DISTILLERY      3   5.905040  13.891884\n",
       "1               21ST CENTURY SPIRITS LLC      2  14.277925   4.328492\n",
       "2                    3 BADGE CORPORATION      3   9.633894  20.597061\n",
       "3                 3-OAKS DISTILLERY, LLC      2  13.246187  -6.646710\n",
       "4                  45TH PARALLEL SPIRITS      2  14.011823  -8.463009\n",
       "..                                   ...    ...        ...        ...\n",
       "232  WMC-PBD LLC/ PINE BLUFFS DISTILLING      2   3.027181  -6.797962\n",
       "233           WOODY CREEK DISTILLERS LLC      2  13.757389  -7.057111\n",
       "234       WORLD TRADE LIQUOR IMPORTS LLC      0 -14.723955  15.020766\n",
       "235             WORLDWIDE LIBATIONS, LLC      0  -6.724672   5.764702\n",
       "236            WRS CO. LLC / WRS IMPORTS      0  -4.777681   8.507023\n",
       "\n",
       "[237 rows x 4 columns]"
      ]
     },
     "execution_count": 363,
     "metadata": {},
     "output_type": "execute_result"
    }
   ],
   "source": [
    "labels = history.loc[history['n_clusters'] == 4]['labels'].values[0]\n",
    "\n",
    "data_labels = []\n",
    "try:\n",
    "    for i in range(len(names)):\n",
    "        data_labels.append([names[i], labels[i], embed_fit[i][0], embed_fit[i][1], embed_fit[i][2]])\n",
    "\n",
    "    data_labels = pd.DataFrame(data_labels, columns=['Brand', 'label', \"X\", \"Y\", \"Z\"])\n",
    "except IndexError:\n",
    "    for i in range(len(names)):\n",
    "        data_labels.append([names[i], labels[i], embed_fit[i][0], embed_fit[i][1]])\n",
    "\n",
    "    data_labels = pd.DataFrame(data_labels, columns=['Brand', 'label', \"X\", \"Y\"])\n",
    "\n",
    "data_labels"
   ]
  },
  {
   "cell_type": "code",
   "execution_count": 364,
   "metadata": {},
   "outputs": [
    {
     "data": {
      "text/html": [
       "<div>\n",
       "<style scoped>\n",
       "    .dataframe tbody tr th:only-of-type {\n",
       "        vertical-align: middle;\n",
       "    }\n",
       "\n",
       "    .dataframe tbody tr th {\n",
       "        vertical-align: top;\n",
       "    }\n",
       "\n",
       "    .dataframe thead th {\n",
       "        text-align: right;\n",
       "    }\n",
       "</style>\n",
       "<table border=\"1\" class=\"dataframe\">\n",
       "  <thead>\n",
       "    <tr style=\"text-align: right;\">\n",
       "      <th></th>\n",
       "      <th>Brand</th>\n",
       "      <th>label</th>\n",
       "      <th>X</th>\n",
       "      <th>Y</th>\n",
       "    </tr>\n",
       "  </thead>\n",
       "  <tbody>\n",
       "    <tr>\n",
       "      <th>11</th>\n",
       "      <td>BACARDI USA INC</td>\n",
       "      <td>1</td>\n",
       "      <td>-16.708693</td>\n",
       "      <td>-19.396179</td>\n",
       "    </tr>\n",
       "  </tbody>\n",
       "</table>\n",
       "</div>"
      ],
      "text/plain": [
       "              Brand  label          X          Y\n",
       "11  BACARDI USA INC      1 -16.708693 -19.396179"
      ]
     },
     "metadata": {},
     "output_type": "display_data"
    },
    {
     "data": {
      "text/html": [
       "<div>\n",
       "<style scoped>\n",
       "    .dataframe tbody tr th:only-of-type {\n",
       "        vertical-align: middle;\n",
       "    }\n",
       "\n",
       "    .dataframe tbody tr th {\n",
       "        vertical-align: top;\n",
       "    }\n",
       "\n",
       "    .dataframe thead th {\n",
       "        text-align: right;\n",
       "    }\n",
       "</style>\n",
       "<table border=\"1\" class=\"dataframe\">\n",
       "  <thead>\n",
       "    <tr style=\"text-align: right;\">\n",
       "      <th></th>\n",
       "      <th>Brand</th>\n",
       "      <th>label</th>\n",
       "      <th>X</th>\n",
       "      <th>Y</th>\n",
       "    </tr>\n",
       "  </thead>\n",
       "  <tbody>\n",
       "    <tr>\n",
       "      <th>11</th>\n",
       "      <td>BACARDI USA INC</td>\n",
       "      <td>1</td>\n",
       "      <td>-16.708693</td>\n",
       "      <td>-19.396179</td>\n",
       "    </tr>\n",
       "    <tr>\n",
       "      <th>12</th>\n",
       "      <td>BAD BEAR ENTERPRISES LLC / LEGENDARY RYE</td>\n",
       "      <td>1</td>\n",
       "      <td>0.117434</td>\n",
       "      <td>-12.635992</td>\n",
       "    </tr>\n",
       "    <tr>\n",
       "      <th>20</th>\n",
       "      <td>BLUE OX SPIRITS, INC.</td>\n",
       "      <td>1</td>\n",
       "      <td>-12.952186</td>\n",
       "      <td>-20.695669</td>\n",
       "    </tr>\n",
       "    <tr>\n",
       "      <th>22</th>\n",
       "      <td>BONAVITA BEVERAGE GROUP, LLC</td>\n",
       "      <td>1</td>\n",
       "      <td>-3.128511</td>\n",
       "      <td>-22.673777</td>\n",
       "    </tr>\n",
       "    <tr>\n",
       "      <th>26</th>\n",
       "      <td>BRECKENRIDGE DISTILLERY / DOUBLE DIAMOND DISTI...</td>\n",
       "      <td>1</td>\n",
       "      <td>-3.934476</td>\n",
       "      <td>-23.561373</td>\n",
       "    </tr>\n",
       "    <tr>\n",
       "      <th>...</th>\n",
       "      <td>...</td>\n",
       "      <td>...</td>\n",
       "      <td>...</td>\n",
       "      <td>...</td>\n",
       "    </tr>\n",
       "    <tr>\n",
       "      <th>222</th>\n",
       "      <td>VINO.COM DBA TOTAL BEVERAGE SOLUTION</td>\n",
       "      <td>1</td>\n",
       "      <td>-17.652910</td>\n",
       "      <td>-4.718464</td>\n",
       "    </tr>\n",
       "    <tr>\n",
       "      <th>223</th>\n",
       "      <td>W J DEUTSCH &amp; SONS LTD</td>\n",
       "      <td>1</td>\n",
       "      <td>-3.179633</td>\n",
       "      <td>-24.739395</td>\n",
       "    </tr>\n",
       "    <tr>\n",
       "      <th>224</th>\n",
       "      <td>WESTERN SPIRITS BEVERAGE</td>\n",
       "      <td>1</td>\n",
       "      <td>-6.587813</td>\n",
       "      <td>-15.252764</td>\n",
       "    </tr>\n",
       "    <tr>\n",
       "      <th>229</th>\n",
       "      <td>WILLIAM GRANT &amp; SONS INC</td>\n",
       "      <td>1</td>\n",
       "      <td>-13.675378</td>\n",
       "      <td>-12.477396</td>\n",
       "    </tr>\n",
       "    <tr>\n",
       "      <th>231</th>\n",
       "      <td>WINESOURCE INTERNATIONAL INC.</td>\n",
       "      <td>1</td>\n",
       "      <td>-2.640951</td>\n",
       "      <td>-6.445629</td>\n",
       "    </tr>\n",
       "  </tbody>\n",
       "</table>\n",
       "<p>69 rows × 4 columns</p>\n",
       "</div>"
      ],
      "text/plain": [
       "                                                 Brand  label          X  \\\n",
       "11                                     BACARDI USA INC      1 -16.708693   \n",
       "12            BAD BEAR ENTERPRISES LLC / LEGENDARY RYE      1   0.117434   \n",
       "20                               BLUE OX SPIRITS, INC.      1 -12.952186   \n",
       "22                        BONAVITA BEVERAGE GROUP, LLC      1  -3.128511   \n",
       "26   BRECKENRIDGE DISTILLERY / DOUBLE DIAMOND DISTI...      1  -3.934476   \n",
       "..                                                 ...    ...        ...   \n",
       "222               VINO.COM DBA TOTAL BEVERAGE SOLUTION      1 -17.652910   \n",
       "223                             W J DEUTSCH & SONS LTD      1  -3.179633   \n",
       "224                           WESTERN SPIRITS BEVERAGE      1  -6.587813   \n",
       "229                           WILLIAM GRANT & SONS INC      1 -13.675378   \n",
       "231                      WINESOURCE INTERNATIONAL INC.      1  -2.640951   \n",
       "\n",
       "             Y  \n",
       "11  -19.396179  \n",
       "12  -12.635992  \n",
       "20  -20.695669  \n",
       "22  -22.673777  \n",
       "26  -23.561373  \n",
       "..         ...  \n",
       "222  -4.718464  \n",
       "223 -24.739395  \n",
       "224 -15.252764  \n",
       "229 -12.477396  \n",
       "231  -6.445629  \n",
       "\n",
       "[69 rows x 4 columns]"
      ]
     },
     "metadata": {},
     "output_type": "display_data"
    }
   ],
   "source": [
    "n = int(data_labels.loc[data_labels['Brand'] == \"BACARDI USA INC\"]['label'].values)\n",
    "display(data_labels.loc[data_labels['Brand'] == \"BACARDI USA INC\"])\n",
    "display(data_labels.loc[data_labels['label'] == n])"
   ]
  },
  {
   "cell_type": "code",
   "execution_count": 365,
   "metadata": {},
   "outputs": [
    {
     "data": {
      "application/vnd.plotly.v1+json": {
       "config": {
        "plotlyServerURL": "https://plot.ly"
       },
       "data": [
        {
         "customdata": [
          [
           "173 CRAFT DISTILLERY"
          ],
          [
           "21ST CENTURY SPIRITS LLC"
          ],
          [
           "3 BADGE CORPORATION"
          ],
          [
           "3-OAKS DISTILLERY, LLC"
          ],
          [
           "45TH PARALLEL SPIRITS"
          ],
          [
           "AHA TORO SPIRITS INC / AHA YETO TEQUILA"
          ],
          [
           "AIKO IMPORTERS INC"
          ],
          [
           "ALTAMAR BRANDS LLC"
          ],
          [
           "AMERICAN HERITAGE DISTILLERS, LLC / CENTURY FARMS DISTILLERY"
          ],
          [
           "AMERICAN SPIRITS EXCHANGE"
          ],
          [
           "AZZURRE SPIRITS"
          ],
          [
           "BACARDI USA INC"
          ],
          [
           "BAD BEAR ENTERPRISES LLC / LEGENDARY RYE"
          ],
          [
           "BE IN GOOD SPIRITS LLC / FRANKLY ORGANIC VODKA"
          ],
          [
           "BEDFORD & GROVE LLC/ CHANKASKA CREEK AND RANCH WINERY"
          ],
          [
           "BENCHMARK BEVERAGE COMPANY LLC"
          ],
          [
           "BEST CASE WINES LLC"
          ],
          [
           "BIG DERBY DISTILLING COMPANY"
          ],
          [
           "BLACK ROCK SPIRITS"
          ],
          [
           "BLACKBIRD SPIRITS, LLC / DR. STONERS HERB INFUSED SPIRITS"
          ],
          [
           "BLUE OX SPIRITS, INC."
          ],
          [
           "BLUFF CREEK DISTILLERY"
          ],
          [
           "BONAVITA BEVERAGE GROUP, LLC"
          ],
          [
           "BOTTLE TREE BEVERAGE COMPANY LLC / CATHEAD DISTILLERY"
          ],
          [
           "BOVEDA RESERVE DISTRIBUTION LLC"
          ],
          [
           "BRECKENRIDGE DISTILLERY"
          ],
          [
           "BRECKENRIDGE DISTILLERY / DOUBLE DIAMOND DISTILLERY LLC"
          ],
          [
           "BROADBENT VENTURES LLC"
          ],
          [
           "BROWN FORMAN CORP."
          ],
          [
           "BUCKTOWN DISTILLING CO., LLC / ARTISAN GRAIN DISTILLERY"
          ],
          [
           "CALEDONIA SPIRITS"
          ],
          [
           "CALIFORNIA TEQUILA INC"
          ],
          [
           "CAMPARI AMERICA"
          ],
          [
           "CARRIAGE HOUSE IMPORTS"
          ],
          [
           "CASA 1921 LLC"
          ],
          [
           "CASTLE BRANDS"
          ],
          [
           "CATS EYE DISTILLERY"
          ],
          [
           "CEDAR RIDGE VINEYARDS LL"
          ],
          [
           "CENTRAL STANDARD, LLC"
          ],
          [
           "CEO DISTILLING LLC"
          ],
          [
           "CH DISTILLERY / 773 LLC"
          ],
          [
           "CHACHO SPIRITS / ZJ LIQUORS, LLC"
          ],
          [
           "CHARLES JACQUIN ET CIE"
          ],
          [
           "CHATHAM IMPORTS INC"
          ],
          [
           "CITADEL BEVERAGES"
          ],
          [
           "CLEAR WATER DISTILLING CO"
          ],
          [
           "CNS IMPORTS; FOUR SEASONS TRADING; CNS WINE & SPIRITS"
          ],
          [
           "CONSTELLATION BRANDS INC"
          ],
          [
           "COOPER SPIRITS INTERNATIONAL"
          ],
          [
           "COPPER STILL DISTILLERY"
          ],
          [
           "COUNTRY SMOOTH SPIRITS"
          ],
          [
           "COWBOY COUNTRY DISTILLING, INC."
          ],
          [
           "CVI BRANDS / CALIFORNIA VINEYARDS INC"
          ],
          [
           "DA DUE COMPLIANCE AND LOGISTICS"
          ],
          [
           "DAVOS BRANDS LLC"
          ],
          [
           "DEHNER DISTILLERY"
          ],
          [
           "DELUXE WINE & SPIRITS CO / MOLDOVA DELUXE"
          ],
          [
           "DEMERARA DISTILLERS (USA) INC."
          ],
          [
           "DES MOINES IMPORTS"
          ],
          [
           "DIAGEO AMERICAS"
          ],
          [
           "DISARONNO INTERNATIONAL"
          ],
          [
           "DISTILLERS WAY, LLC"
          ],
          [
           "DOC BROWN ENTERPRISES"
          ],
          [
           "DREYFUS ASHBY"
          ],
          [
           "DRIFTLESS GLEN DISTILLERY"
          ],
          [
           "DRUM CIRCLE DISTILLING, LLC"
          ],
          [
           "DUGGANS DISTILLERS"
          ],
          [
           "DUMBASS WHISKEY, LLC"
          ],
          [
           "DUNKEL CORPORATION / IOWA DISTILLING"
          ],
          [
           "DURHAM DISTILLERY"
          ],
          [
           "DV SPIRITS LLC"
          ],
          [
           "E & J GALLO WINERY"
          ],
          [
           "EASTERN LIQUORS USA"
          ],
          [
           "EDRINGTON GROUP USA LLC"
          ],
          [
           "EGGHEAD TOO LLC/ ARE CONCEPTS"
          ],
          [
           "ELIXIR, INC."
          ],
          [
           "EOD DISTILLERY, LLC"
          ],
          [
           "FETZER VINEYARDS"
          ],
          [
           "FIFTH GENERATION INC"
          ],
          [
           "FOUNDRY DISTILLING COMPANY, LLC"
          ],
          [
           "FOUR ROSES DISTILLERY"
          ],
          [
           "FRANK LIN DISTILLERS PRO"
          ],
          [
           "FREDRICK WILDMAN & SON"
          ],
          [
           "GARGOYLE ENTERPRISES / LAWS WHISKEY HOUSE"
          ],
          [
           "GEORGETOWN TRADING CO. LLC / JAMES PEPPER DISTILLING CO."
          ],
          [
           "GLASS REVOLUTION IMPORTS"
          ],
          [
           "GLOBAL BEVERAGE TEAM, LLC"
          ],
          [
           "GOAMERICAGO BEVERAGES LLC / WHISTLEPIG"
          ],
          [
           "GRAND PRIX BEVERAGE LLC"
          ],
          [
           "GRAND TETON DISTILLERY"
          ],
          [
           "GRAYBEARD DISTILLERY INC"
          ],
          [
           "GREEN FROG DISTILLERY, LLC"
          ],
          [
           "GREEN MOUNTAIN ARTISANAL CELLARS LLC/ ARTISANAL CELLARS"
          ],
          [
           "GREEN RIVER DISTILLING COMPANY"
          ],
          [
           "HAMILTON DISTILLERS GROUP, INC"
          ],
          [
           "HAWAII SEA SPIRITS LLC"
          ],
          [
           "HEAVEN HILL BRANDS"
          ],
          [
           "HEAVENLY SPIRITS LLC"
          ],
          [
           "HEXA PARTNERS LP"
          ],
          [
           "HIGHCLERE CASTLE SPIRITS"
          ],
          [
           "HILLROCK ESTATE DISTILLERY"
          ],
          [
           "HOOD RIVER DISTILLERS"
          ],
          [
           "HOTALING & CO"
          ],
          [
           "HPSEPICUREAN LLC / PREISS IMPORTS"
          ],
          [
           "IA-NATIVE SPIRITS"
          ],
          [
           "IMPEX BEVERAGE INC"
          ],
          [
           "INFINIUM SPIRITS"
          ],
          [
           "INTERCONTINENTAL PACKAGING COMPANY/PRESTIGE BEVERAGE GROUP"
          ],
          [
           "INTERNATIONAL TRADE ONE CORP"
          ],
          [
           "IZTOK LLC / YEBIGA"
          ],
          [
           "J & D WINES INC / WOOLER BRANDS"
          ],
          [
           "JACOB RIEGER & COMPANY LLC"
          ],
          [
           "JAMES JOSEPH SANCTIFIED SPIRITS, LLC / OAK&EDEN"
          ],
          [
           "JDSO INC / RED BOOT DISTILLERY"
          ],
          [
           "JEM BEVERAGE COMPANY"
          ],
          [
           "JEM BEVERAGE COMPANY / WESTERN SON"
          ],
          [
           "JIM BEAM BRANDS"
          ],
          [
           "JINRO AMERICA INC"
          ],
          [
           "JOHN ERNEST DISTILLERY, INC."
          ],
          [
           "KINGS COUNTY DISTILLERY"
          ],
          [
           "KOLOA RUM COMPANY"
          ],
          [
           "KOVAL DISTILLERY"
          ],
          [
           "LAIRD & COMPANY"
          ],
          [
           "LATITUDE BEVERAGE COMPANY"
          ],
          [
           "LBD COFFEE, LLC"
          ],
          [
           "LEVECKE CORPORATION"
          ],
          [
           "LONELY OAK DISTILLERY"
          ],
          [
           "LONZ WINERY, LLC / ERIE BEVERAGE SOLUTIONS"
          ],
          [
           "LUXCO INC"
          ],
          [
           "MACCHU PISCO LLC"
          ],
          [
           "MACH FLYNT INC."
          ],
          [
           "MAISON FERRAND USA"
          ],
          [
           "MANGO BOTTLING"
          ],
          [
           "MARA IMPORTS"
          ],
          [
           "MARUSSIA BEVERAGES USA, INC / NICHE IMPORT"
          ],
          [
           "MAST-JAGERMEISTER US, INC"
          ],
          [
           "MAVERICK SPIRIT LLC / OREGON SPIRIT DISTILLERS"
          ],
          [
           "MCCORMICK DISTILLING CO."
          ],
          [
           "MEISENBURG BREWING & DISTILLING"
          ],
          [
           "MHW LTD"
          ],
          [
           "MIDDLE WEST SPIRITS"
          ],
          [
           "MIDWEST LIQUOR COMPANY"
          ],
          [
           "MILE HIGH SPIRITS LLC"
          ],
          [
           "MINHAS MICRO DISTILLERY"
          ],
          [
           "MISA IMPORTS INC"
          ],
          [
           "MISSISSIPPI RIVER DISTIL"
          ],
          [
           "MISSISSIPPI RIVER DISTILLING COMPANY LLC"
          ],
          [
           "MODERN MATRIARCH"
          ],
          [
           "MODERN SPIRIT LLC / GREENBAR DISTILLERY"
          ],
          [
           "MOET HENNESSY USA"
          ],
          [
           "MOUNTAIN LAUREL SPIRITS LLC"
          ],
          [
           "MPL BRANDS NV INC"
          ],
          [
           "MPL BRANDS NV INC/ PATCO BRANDS"
          ],
          [
           "NORTH SHORE DISTILLERY"
          ],
          [
           "NORTHWEST NATURAL SPIRITS, LLC / CASCADE SPIRITS"
          ],
          [
           "O'MALLEYS OF WESTON LLC"
          ],
          [
           "OLD ELK DISTILLERIES LLC"
          ],
          [
           "OLE SMOKY DISTILLERY LLC"
          ],
          [
           "OPICI IMPORT COMPANY"
          ],
          [
           "OZ SPIRITS LLC"
          ],
          [
           "PALM BAY INTERNATIONAL"
          ],
          [
           "PARK STREET IMPORTS"
          ],
          [
           "PATERNO IMPORTS LTD / TERLATO WINES INTERNATIONAL"
          ],
          [
           "PATRIARCH DISTILLERS LLC / SOLDIER VALLEY SPIRITS"
          ],
          [
           "PERNOD RICARD USA"
          ],
          [
           "PHILLIPS BEVERAGE"
          ],
          [
           "PIEDMONT DISTILLERS INC"
          ],
          [
           "PREMIER DISTRIBUTORS LLC"
          ],
          [
           "PRESTIGE WINE & SPIRITS GROUP / UNITED STATES DISTILLED PRODUCTS CO"
          ],
          [
           "PRICHARDS DISTILLERY INC"
          ],
          [
           "PROST BEVERAGE COMPANY"
          ],
          [
           "PROXIMO"
          ],
          [
           "QUADRO GROUP LLC"
          ],
          [
           "RANSOM SPIRITS LLC"
          ],
          [
           "REMY COINTREAU USA INC"
          ],
          [
           "RESTLESS SPIRITS DISTILLING COMPANY, LLC"
          ],
          [
           "REVELTON DISTILLING COMPANY"
          ],
          [
           "RIVER VALLEY ORCHARDS & WINERY"
          ],
          [
           "ROCKY TOP INVESTMENTS / ROCK RIVER DISTILLATION"
          ],
          [
           "RS LIPMAN COMPANY LLC"
          ],
          [
           "RUMCOQUI AND CO"
          ],
          [
           "RUSH CREEK DISTILLING, LLC"
          ],
          [
           "RUSSIAN STANDARD VODKA"
          ],
          [
           "S&B FARMS DISTILLERY"
          ],
          [
           "SAGAMORE WHISKEY, LLC"
          ],
          [
           "SALOON SPIRITS LLC"
          ],
          [
           "SAN BARTOLO FARMS INC."
          ],
          [
           "SANTA FE DISTILLERY, LLC"
          ],
          [
           "SARGE'S SPIRITS LLC"
          ],
          [
           "SAVAGE & COOKE / SANTA CROCE LLC"
          ],
          [
           "SAZERAC COMPANY  INC"
          ],
          [
           "SC DISTILLATION LLC / VILLAGE GARAGE DISTILLERY"
          ],
          [
           "SERRALLES USA"
          ],
          [
           "SEVEN JARS DISTILLERY, LLC"
          ],
          [
           "SHAW-ROSS INTERNATIONAL"
          ],
          [
           "SION FARM DISTILLERY / TWIN CITY ISLAND SPIRITS, INC"
          ],
          [
           "SODA JERK LLC"
          ],
          [
           "SOVEREIGN BRANDS, LLC"
          ],
          [
           "SPLINTER GROUP NAPA, LLC"
          ],
          [
           "ST GEORGE SPIRITS INC"
          ],
          [
           "STILLWORKS LLC"
          ],
          [
           "STOLI GROUP"
          ],
          [
           "STOLLER IMPORTS INC / MARSALLE COMPANY"
          ],
          [
           "SUGARLANDS DISTILLING COMPANY LLC"
          ],
          [
           "SURO INTERNATIONAL IMPORTERS, INC"
          ],
          [
           "SURVILLE ENTERPRISES CORP"
          ],
          [
           "SUTTER HOME WINERY INC / TRINCHERO FAMILY ESTATES"
          ],
          [
           "SWELL LIQUOR LLC"
          ],
          [
           "T. EDWARD WINES, LTD."
          ],
          [
           "TEMPLETON DISTILLING LLC"
          ],
          [
           "TENN SOUTH DISTILLERY / BIG MACHINE DISTILLERY"
          ],
          [
           "TENNESSEE SHINE CO/XXX DISTILLERY LLC"
          ],
          [
           "TEQUILAS PREMIUM, INC"
          ],
          [
           "TOM'S TOWN DISTILLING CO"
          ],
          [
           "TRAVERSE CITY WHISKEY CO / TCWC, LLC"
          ],
          [
           "TRUST ME VODKA, INC."
          ],
          [
           "TYCOGA VINEYARD & WINERY, LLC"
          ],
          [
           "UNA FAMILIA SPIRITS LLC"
          ],
          [
           "USA WINE WEST, LLC"
          ],
          [
           "VALHALLA IMPORTS, LLC"
          ],
          [
           "VIKRE DISTILLERY"
          ],
          [
           "VIN DIVINO LTD / GONZALEZ BYASS USA"
          ],
          [
           "VINO.COM DBA TOTAL BEVERAGE SOLUTION"
          ],
          [
           "W J DEUTSCH & SONS LTD"
          ],
          [
           "WESTERN SPIRITS BEVERAGE"
          ],
          [
           "WHIDBEY ISLAND DISTILLERIES LLC"
          ],
          [
           "WILD AGAVE IMPORTS LLC"
          ],
          [
           "WILDCAT PRODUCTS LLC"
          ],
          [
           "WILDERNESS TRAIL DISTILLERY"
          ],
          [
           "WILLIAM GRANT & SONS INC"
          ],
          [
           "WILLIAM WRIGHT / BAY AND ROUSE LLC"
          ],
          [
           "WINESOURCE INTERNATIONAL INC."
          ],
          [
           "WMC-PBD LLC/ PINE BLUFFS DISTILLING"
          ],
          [
           "WOODY CREEK DISTILLERS LLC"
          ],
          [
           "WORLD TRADE LIQUOR IMPORTS LLC"
          ],
          [
           "WORLDWIDE LIBATIONS, LLC"
          ],
          [
           "WRS CO. LLC / WRS IMPORTS"
          ]
         ],
         "hovertemplate": "X=%{x}<br>Y=%{y}<br>Brand=%{customdata[0]}<br>label=%{marker.color}<extra></extra>",
         "legendgroup": "",
         "marker": {
          "color": [
           3,
           2,
           3,
           2,
           2,
           0,
           2,
           3,
           3,
           2,
           2,
           1,
           1,
           2,
           0,
           0,
           2,
           3,
           2,
           3,
           1,
           2,
           1,
           2,
           0,
           2,
           1,
           1,
           1,
           2,
           2,
           1,
           1,
           1,
           0,
           0,
           3,
           1,
           2,
           2,
           1,
           2,
           1,
           2,
           2,
           3,
           0,
           0,
           1,
           2,
           2,
           3,
           2,
           2,
           3,
           1,
           1,
           3,
           0,
           1,
           1,
           1,
           3,
           0,
           1,
           0,
           3,
           2,
           1,
           2,
           3,
           0,
           3,
           1,
           2,
           2,
           2,
           0,
           2,
           3,
           1,
           1,
           1,
           2,
           2,
           3,
           0,
           2,
           0,
           2,
           2,
           3,
           2,
           2,
           2,
           3,
           1,
           2,
           0,
           2,
           1,
           1,
           1,
           0,
           0,
           1,
           1,
           1,
           3,
           2,
           2,
           1,
           0,
           1,
           2,
           2,
           1,
           0,
           0,
           2,
           1,
           2,
           1,
           2,
           2,
           0,
           1,
           0,
           1,
           2,
           2,
           0,
           2,
           0,
           1,
           1,
           2,
           1,
           2,
           1,
           2,
           2,
           1,
           0,
           2,
           1,
           1,
           3,
           0,
           2,
           2,
           2,
           0,
           0,
           2,
           2,
           1,
           1,
           0,
           2,
           3,
           1,
           1,
           3,
           1,
           0,
           1,
           2,
           2,
           2,
           1,
           0,
           2,
           2,
           1,
           3,
           3,
           2,
           2,
           2,
           2,
           2,
           1,
           1,
           2,
           2,
           0,
           2,
           2,
           1,
           1,
           2,
           1,
           2,
           0,
           2,
           2,
           0,
           2,
           1,
           2,
           1,
           0,
           1,
           1,
           2,
           0,
           2,
           0,
           3,
           2,
           2,
           0,
           2,
           2,
           2,
           1,
           0,
           3,
           3,
           0,
           2,
           1,
           1,
           1,
           2,
           0,
           3,
           2,
           1,
           2,
           1,
           2,
           2,
           0,
           0,
           0
          ],
          "coloraxis": "coloraxis",
          "symbol": "circle"
         },
         "mode": "markers",
         "name": "",
         "orientation": "v",
         "showlegend": false,
         "type": "scatter",
         "x": [
          5.905040264129639,
          14.277925491333008,
          9.633893966674805,
          13.246187210083008,
          14.011822700500488,
          -10.019340515136719,
          10.64702320098877,
          11.040690422058105,
          0.6576005220413208,
          20.473878860473633,
          7.403596878051758,
          -16.70869255065918,
          0.11743389070034027,
          13.728532791137695,
          -15.916345596313477,
          -14.72118091583252,
          1.9027467966079712,
          1.5470227003097534,
          17.8057861328125,
          0.4283192753791809,
          -12.95218563079834,
          10.280948638916016,
          -3.1285109519958496,
          9.877208709716797,
          -9.438082695007324,
          17.569887161254883,
          -3.934476375579834,
          -8.512771606445312,
          -4.0556464195251465,
          11.300455093383789,
          3.8894541263580322,
          -5.197429656982422,
          -21.325027465820312,
          -7.539597034454346,
          -11.820547103881836,
          -7.094566822052002,
          0.5398492813110352,
          -11.639262199401855,
          15.239357948303223,
          2.0152194499969482,
          5.305665969848633,
          8.999678611755371,
          -2.6254379749298096,
          13.401659965515137,
          14.50423526763916,
          10.504891395568848,
          -5.407898426055908,
          -21.90007781982422,
          -8.662450790405273,
          4.02111291885376,
          12.315637588500977,
          10.515814781188965,
          12.062301635742188,
          13.087268829345703,
          -0.01866842806339264,
          -14.215804100036621,
          -4.30042839050293,
          9.815298080444336,
          -5.256248474121094,
          -15.216873168945312,
          -19.807098388671875,
          -11.246901512145996,
          7.4851603507995605,
          -3.0975489616394043,
          3.4835758209228516,
          -0.6184189915657043,
          1.5470227003097534,
          16.40800666809082,
          -2.581538200378418,
          4.39395809173584,
          -0.4244728088378906,
          -20.774490356445312,
          7.96126127243042,
          -12.222681045532227,
          0.17959432303905487,
          1.3166664838790894,
          0.6505250334739685,
          -0.1966077834367752,
          1.1367794275283813,
          -2.1204187870025635,
          5.76649284362793,
          -13.17818546295166,
          -19.227388381958008,
          12.171195983886719,
          14.528907775878906,
          0.9232584834098816,
          -16.99113655090332,
          8.683370590209961,
          -4.6241679191589355,
          14.031579971313477,
          5.669998645782471,
          0.1789485514163971,
          28.815013885498047,
          15.146513938903809,
          6.962749004364014,
          7.09530782699585,
          -21.898439407348633,
          6.025660991668701,
          -10.052762031555176,
          28.062467575073242,
          -15.29480266571045,
          -12.757813453674316,
          -17.740808486938477,
          -9.536552429199219,
          -0.7947189807891846,
          -14.23198413848877,
          -3.504013776779175,
          -10.80993366241455,
          5.12607479095459,
          2.382035970687866,
          13.813600540161133,
          -4.9385857582092285,
          -19.55250358581543,
          -11.226106643676758,
          20.72865867614746,
          20.059226989746094,
          -8.175372123718262,
          -21.855165481567383,
          -4.1607747077941895,
          13.219378471374512,
          -13.798192024230957,
          -2.244523763656616,
          -6.574474334716797,
          14.907000541687012,
          11.304657936096191,
          -12.41262435913086,
          4.8235650062561035,
          -12.413926124572754,
          -15.617365837097168,
          2.234962224960327,
          0.8934661746025085,
          -19.604915618896484,
          5.89898157119751,
          -13.015894889831543,
          -11.698928833007812,
          -21.69537353515625,
          4.7063307762146,
          -19.240365982055664,
          7.456640720367432,
          -20.847187042236328,
          2.9651644229888916,
          4.757105827331543,
          5.811314105987549,
          -2.5309529304504395,
          20.86787223815918,
          -0.5141327977180481,
          -1.7957791090011597,
          5.569525718688965,
          -10.090471267700195,
          -2.304657459259033,
          2.0619237422943115,
          3.3727211952209473,
          -9.721026420593262,
          -10.605774879455566,
          18.686067581176758,
          2.901613712310791,
          3.553788185119629,
          -3.390083074569702,
          -6.641648769378662,
          -0.3709334433078766,
          8.721881866455078,
          -21.605205535888672,
          -14.937050819396973,
          0.3558446168899536,
          -14.16951847076416,
          -19.56991195678711,
          2.939751386642456,
          2.216299295425415,
          20.872146606445312,
          2.134364128112793,
          1.0126073360443115,
          -13.278565406799316,
          13.086514472961426,
          1.1398859024047852,
          -18.9056339263916,
          16.68649673461914,
          -1.4199405908584595,
          2.6399638652801514,
          14.976764678955078,
          2.6612491607666016,
          6.0212602615356445,
          3.3586275577545166,
          -8.266777038574219,
          -1.6133220195770264,
          3.48144793510437,
          4.488738536834717,
          -4.425146102905273,
          6.963962554931641,
          4.710683345794678,
          -9.02563190460205,
          -23.25583267211914,
          9.036203384399414,
          -17.377952575683594,
          5.653740882873535,
          -18.864362716674805,
          11.258965492248535,
          17.551515579223633,
          -18.8369140625,
          6.967350959777832,
          1.7598477602005005,
          3.8929479122161865,
          -7.136071681976318,
          -16.483060836791992,
          -0.8345474600791931,
          -28.500858306884766,
          2.0619237422943115,
          -11.308845520019531,
          7.234527587890625,
          -12.038264274597168,
          0.10176672041416168,
          12.540141105651855,
          3.806381940841675,
          -17.41117286682129,
          3.2249488830566406,
          11.118851661682129,
          5.233067512512207,
          -4.314334392547607,
          -15.243331909179688,
          16.912721633911133,
          1.9065285921096802,
          -3.716339111328125,
          5.690430641174316,
          -17.652910232543945,
          -3.1796326637268066,
          -6.587813377380371,
          3.487929344177246,
          -7.422842025756836,
          0.09101217240095139,
          9.56010913848877,
          -13.67537784576416,
          6.433915615081787,
          -2.6409506797790527,
          3.0271809101104736,
          13.757389068603516,
          -14.723955154418945,
          -6.724671840667725,
          -4.77768087387085
         ],
         "xaxis": "x",
         "y": [
          13.891883850097656,
          4.328491687774658,
          20.597061157226562,
          -6.64670991897583,
          -8.463008880615234,
          0.24210979044437408,
          -12.31839656829834,
          20.120208740234375,
          31.973499298095703,
          9.683701515197754,
          4.605264663696289,
          -19.39617919921875,
          -12.635992050170898,
          5.813173294067383,
          18.379308700561523,
          16.58225440979004,
          4.847002983093262,
          15.7239408493042,
          5.312475204467773,
          24.266077041625977,
          -20.695669174194336,
          5.095398902893066,
          -22.673776626586914,
          -11.328893661499023,
          11.43858814239502,
          -8.407462120056152,
          -23.561372756958008,
          -21.422040939331055,
          -8.53121566772461,
          -0.6439217329025269,
          3.906172275543213,
          -21.012962341308594,
          -8.520808219909668,
          -3.3387703895568848,
          -2.7183752059936523,
          4.690069675445557,
          31.377077102661133,
          -12.449216842651367,
          -5.908744812011719,
          2.7629244327545166,
          -23.2983455657959,
          8.055560111999512,
          -6.138382911682129,
          -15.216293334960938,
          -12.960029602050781,
          14.201231956481934,
          16.83521842956543,
          9.612794876098633,
          -20.813533782958984,
          -9.330305099487305,
          -3.9289133548736572,
          14.2083101272583,
          -2.4429121017456055,
          10.38619613647461,
          26.118968963623047,
          -20.602035522460938,
          -21.18669319152832,
          20.596088409423828,
          17.02198028564453,
          -11.453851699829102,
          -8.966524124145508,
          -19.245304107666016,
          18.94556999206543,
          7.678649425506592,
          -21.25151824951172,
          10.03618335723877,
          15.7239408493042,
          -8.433976173400879,
          -14.74374008178711,
          1.3448255062103271,
          29.683380126953125,
          1.0253725051879883,
          19.43520164489746,
          -12.22756290435791,
          2.4966089725494385,
          1.4719451665878296,
          5.1519927978515625,
          6.953123092651367,
          3.7429966926574707,
          26.415672302246094,
          -19.159029006958008,
          -3.561607837677002,
          -4.24428653717041,
          -3.111720323562622,
          -12.102757453918457,
          14.673113822937012,
          15.379724502563477,
          -10.519708633422852,
          14.869734764099121,
          4.675639629364014,
          3.732623338699341,
          30.113306045532227,
          13.00696086883545,
          -12.60575008392334,
          3.1238536834716797,
          18.52405548095703,
          -4.642350673675537,
          -1.6462727785110474,
          12.039344787597656,
          12.779374122619629,
          -3.8419182300567627,
          -4.484966278076172,
          -6.555480003356934,
          -0.33125126361846924,
          5.465019226074219,
          -6.066713333129883,
          -14.874654769897461,
          -7.515213489532471,
          11.836746215820312,
          5.914731025695801,
          -14.324817657470703,
          -21.874135971069336,
          7.709846496582031,
          -20.306337356567383,
          9.326441764831543,
          9.524663925170898,
          -14.032737731933594,
          9.559706687927246,
          14.88852596282959,
          -7.211782455444336,
          -3.642291784286499,
          -1.6338410377502441,
          -15.127192497253418,
          -8.159175872802734,
          -0.6451711654663086,
          4.980597496032715,
          -19.62151527404785,
          14.297759056091309,
          -20.05024528503418,
          8.74781608581543,
          8.0421142578125,
          7.688006401062012,
          1.9559932947158813,
          14.572163581848145,
          -6.873101234436035,
          -10.718891143798828,
          2.8567278385162354,
          -5.152144908905029,
          9.961535453796387,
          -4.59121561050415,
          -6.804640293121338,
          4.6698899269104,
          -24.127330780029297,
          2.848450183868408,
          0.09821201115846634,
          -22.50933265686035,
          -22.726604461669922,
          13.042946815490723,
          -0.7491085529327393,
          -1.6433749198913574,
          -4.188569068908691,
          2.682183265686035,
          11.705033302307129,
          -0.196262389421463,
          5.6366047859191895,
          1.3410645723342896,
          -20.67891502380371,
          -7.691891670227051,
          6.018135070800781,
          3.9461112022399902,
          21.75184440612793,
          -9.431581497192383,
          -6.815982341766357,
          25.294757843017578,
          -13.43308162689209,
          1.0113471746444702,
          -19.655054092407227,
          7.233085632324219,
          0.10056663304567337,
          -0.8628655076026917,
          -11.766266822814941,
          5.139692306518555,
          10.386474609375,
          6.3738884925842285,
          -9.52402114868164,
          15.85512924194336,
          26.571022033691406,
          -10.04545783996582,
          -11.402402877807617,
          3.932684898376465,
          5.063767433166504,
          5.0821533203125,
          -3.127018928527832,
          -14.74161434173584,
          6.443535327911377,
          5.798763275146484,
          8.369319915771484,
          -3.3117222785949707,
          7.205191612243652,
          -21.325923919677734,
          -8.755245208740234,
          1.375162124633789,
          -3.8968138694763184,
          -0.9029259085655212,
          -0.10391007363796234,
          5.057901382446289,
          5.222640514373779,
          1.9391037225723267,
          -3.311631441116333,
          -10.861529350280762,
          -6.8748297691345215,
          -4.394525051116943,
          17.113250732421875,
          -13.529773712158203,
          -38.747982025146484,
          -4.188569068908691,
          -2.3237595558166504,
          6.178511619567871,
          14.099128723144531,
          29.349496841430664,
          0.03595883399248123,
          9.143598556518555,
          15.616280555725098,
          -9.505690574645996,
          -6.909982681274414,
          8.552681922912598,
          -21.809646606445312,
          14.932992935180664,
          16.58301544189453,
          11.104165077209473,
          14.656704902648926,
          6.320552349090576,
          -4.718463897705078,
          -24.739395141601562,
          -15.252763748168945,
          7.744771957397461,
          0.8552656769752502,
          25.126243591308594,
          -11.048666954040527,
          -12.477396011352539,
          7.577361106872559,
          -6.445629119873047,
          -6.797961711883545,
          -7.0571112632751465,
          15.020766258239746,
          5.764701843261719,
          8.507022857666016
         ],
         "yaxis": "y"
        }
       ],
       "layout": {
        "coloraxis": {
         "colorbar": {
          "title": {
           "text": "label"
          }
         },
         "colorscale": [
          [
           0,
           "#0d0887"
          ],
          [
           0.1111111111111111,
           "#46039f"
          ],
          [
           0.2222222222222222,
           "#7201a8"
          ],
          [
           0.3333333333333333,
           "#9c179e"
          ],
          [
           0.4444444444444444,
           "#bd3786"
          ],
          [
           0.5555555555555556,
           "#d8576b"
          ],
          [
           0.6666666666666666,
           "#ed7953"
          ],
          [
           0.7777777777777778,
           "#fb9f3a"
          ],
          [
           0.8888888888888888,
           "#fdca26"
          ],
          [
           1,
           "#f0f921"
          ]
         ]
        },
        "legend": {
         "tracegroupgap": 0
        },
        "margin": {
         "t": 60
        },
        "template": {
         "data": {
          "bar": [
           {
            "error_x": {
             "color": "#2a3f5f"
            },
            "error_y": {
             "color": "#2a3f5f"
            },
            "marker": {
             "line": {
              "color": "#E5ECF6",
              "width": 0.5
             },
             "pattern": {
              "fillmode": "overlay",
              "size": 10,
              "solidity": 0.2
             }
            },
            "type": "bar"
           }
          ],
          "barpolar": [
           {
            "marker": {
             "line": {
              "color": "#E5ECF6",
              "width": 0.5
             },
             "pattern": {
              "fillmode": "overlay",
              "size": 10,
              "solidity": 0.2
             }
            },
            "type": "barpolar"
           }
          ],
          "carpet": [
           {
            "aaxis": {
             "endlinecolor": "#2a3f5f",
             "gridcolor": "white",
             "linecolor": "white",
             "minorgridcolor": "white",
             "startlinecolor": "#2a3f5f"
            },
            "baxis": {
             "endlinecolor": "#2a3f5f",
             "gridcolor": "white",
             "linecolor": "white",
             "minorgridcolor": "white",
             "startlinecolor": "#2a3f5f"
            },
            "type": "carpet"
           }
          ],
          "choropleth": [
           {
            "colorbar": {
             "outlinewidth": 0,
             "ticks": ""
            },
            "type": "choropleth"
           }
          ],
          "contour": [
           {
            "colorbar": {
             "outlinewidth": 0,
             "ticks": ""
            },
            "colorscale": [
             [
              0,
              "#0d0887"
             ],
             [
              0.1111111111111111,
              "#46039f"
             ],
             [
              0.2222222222222222,
              "#7201a8"
             ],
             [
              0.3333333333333333,
              "#9c179e"
             ],
             [
              0.4444444444444444,
              "#bd3786"
             ],
             [
              0.5555555555555556,
              "#d8576b"
             ],
             [
              0.6666666666666666,
              "#ed7953"
             ],
             [
              0.7777777777777778,
              "#fb9f3a"
             ],
             [
              0.8888888888888888,
              "#fdca26"
             ],
             [
              1,
              "#f0f921"
             ]
            ],
            "type": "contour"
           }
          ],
          "contourcarpet": [
           {
            "colorbar": {
             "outlinewidth": 0,
             "ticks": ""
            },
            "type": "contourcarpet"
           }
          ],
          "heatmap": [
           {
            "colorbar": {
             "outlinewidth": 0,
             "ticks": ""
            },
            "colorscale": [
             [
              0,
              "#0d0887"
             ],
             [
              0.1111111111111111,
              "#46039f"
             ],
             [
              0.2222222222222222,
              "#7201a8"
             ],
             [
              0.3333333333333333,
              "#9c179e"
             ],
             [
              0.4444444444444444,
              "#bd3786"
             ],
             [
              0.5555555555555556,
              "#d8576b"
             ],
             [
              0.6666666666666666,
              "#ed7953"
             ],
             [
              0.7777777777777778,
              "#fb9f3a"
             ],
             [
              0.8888888888888888,
              "#fdca26"
             ],
             [
              1,
              "#f0f921"
             ]
            ],
            "type": "heatmap"
           }
          ],
          "heatmapgl": [
           {
            "colorbar": {
             "outlinewidth": 0,
             "ticks": ""
            },
            "colorscale": [
             [
              0,
              "#0d0887"
             ],
             [
              0.1111111111111111,
              "#46039f"
             ],
             [
              0.2222222222222222,
              "#7201a8"
             ],
             [
              0.3333333333333333,
              "#9c179e"
             ],
             [
              0.4444444444444444,
              "#bd3786"
             ],
             [
              0.5555555555555556,
              "#d8576b"
             ],
             [
              0.6666666666666666,
              "#ed7953"
             ],
             [
              0.7777777777777778,
              "#fb9f3a"
             ],
             [
              0.8888888888888888,
              "#fdca26"
             ],
             [
              1,
              "#f0f921"
             ]
            ],
            "type": "heatmapgl"
           }
          ],
          "histogram": [
           {
            "marker": {
             "pattern": {
              "fillmode": "overlay",
              "size": 10,
              "solidity": 0.2
             }
            },
            "type": "histogram"
           }
          ],
          "histogram2d": [
           {
            "colorbar": {
             "outlinewidth": 0,
             "ticks": ""
            },
            "colorscale": [
             [
              0,
              "#0d0887"
             ],
             [
              0.1111111111111111,
              "#46039f"
             ],
             [
              0.2222222222222222,
              "#7201a8"
             ],
             [
              0.3333333333333333,
              "#9c179e"
             ],
             [
              0.4444444444444444,
              "#bd3786"
             ],
             [
              0.5555555555555556,
              "#d8576b"
             ],
             [
              0.6666666666666666,
              "#ed7953"
             ],
             [
              0.7777777777777778,
              "#fb9f3a"
             ],
             [
              0.8888888888888888,
              "#fdca26"
             ],
             [
              1,
              "#f0f921"
             ]
            ],
            "type": "histogram2d"
           }
          ],
          "histogram2dcontour": [
           {
            "colorbar": {
             "outlinewidth": 0,
             "ticks": ""
            },
            "colorscale": [
             [
              0,
              "#0d0887"
             ],
             [
              0.1111111111111111,
              "#46039f"
             ],
             [
              0.2222222222222222,
              "#7201a8"
             ],
             [
              0.3333333333333333,
              "#9c179e"
             ],
             [
              0.4444444444444444,
              "#bd3786"
             ],
             [
              0.5555555555555556,
              "#d8576b"
             ],
             [
              0.6666666666666666,
              "#ed7953"
             ],
             [
              0.7777777777777778,
              "#fb9f3a"
             ],
             [
              0.8888888888888888,
              "#fdca26"
             ],
             [
              1,
              "#f0f921"
             ]
            ],
            "type": "histogram2dcontour"
           }
          ],
          "mesh3d": [
           {
            "colorbar": {
             "outlinewidth": 0,
             "ticks": ""
            },
            "type": "mesh3d"
           }
          ],
          "parcoords": [
           {
            "line": {
             "colorbar": {
              "outlinewidth": 0,
              "ticks": ""
             }
            },
            "type": "parcoords"
           }
          ],
          "pie": [
           {
            "automargin": true,
            "type": "pie"
           }
          ],
          "scatter": [
           {
            "fillpattern": {
             "fillmode": "overlay",
             "size": 10,
             "solidity": 0.2
            },
            "type": "scatter"
           }
          ],
          "scatter3d": [
           {
            "line": {
             "colorbar": {
              "outlinewidth": 0,
              "ticks": ""
             }
            },
            "marker": {
             "colorbar": {
              "outlinewidth": 0,
              "ticks": ""
             }
            },
            "type": "scatter3d"
           }
          ],
          "scattercarpet": [
           {
            "marker": {
             "colorbar": {
              "outlinewidth": 0,
              "ticks": ""
             }
            },
            "type": "scattercarpet"
           }
          ],
          "scattergeo": [
           {
            "marker": {
             "colorbar": {
              "outlinewidth": 0,
              "ticks": ""
             }
            },
            "type": "scattergeo"
           }
          ],
          "scattergl": [
           {
            "marker": {
             "colorbar": {
              "outlinewidth": 0,
              "ticks": ""
             }
            },
            "type": "scattergl"
           }
          ],
          "scattermapbox": [
           {
            "marker": {
             "colorbar": {
              "outlinewidth": 0,
              "ticks": ""
             }
            },
            "type": "scattermapbox"
           }
          ],
          "scatterpolar": [
           {
            "marker": {
             "colorbar": {
              "outlinewidth": 0,
              "ticks": ""
             }
            },
            "type": "scatterpolar"
           }
          ],
          "scatterpolargl": [
           {
            "marker": {
             "colorbar": {
              "outlinewidth": 0,
              "ticks": ""
             }
            },
            "type": "scatterpolargl"
           }
          ],
          "scatterternary": [
           {
            "marker": {
             "colorbar": {
              "outlinewidth": 0,
              "ticks": ""
             }
            },
            "type": "scatterternary"
           }
          ],
          "surface": [
           {
            "colorbar": {
             "outlinewidth": 0,
             "ticks": ""
            },
            "colorscale": [
             [
              0,
              "#0d0887"
             ],
             [
              0.1111111111111111,
              "#46039f"
             ],
             [
              0.2222222222222222,
              "#7201a8"
             ],
             [
              0.3333333333333333,
              "#9c179e"
             ],
             [
              0.4444444444444444,
              "#bd3786"
             ],
             [
              0.5555555555555556,
              "#d8576b"
             ],
             [
              0.6666666666666666,
              "#ed7953"
             ],
             [
              0.7777777777777778,
              "#fb9f3a"
             ],
             [
              0.8888888888888888,
              "#fdca26"
             ],
             [
              1,
              "#f0f921"
             ]
            ],
            "type": "surface"
           }
          ],
          "table": [
           {
            "cells": {
             "fill": {
              "color": "#EBF0F8"
             },
             "line": {
              "color": "white"
             }
            },
            "header": {
             "fill": {
              "color": "#C8D4E3"
             },
             "line": {
              "color": "white"
             }
            },
            "type": "table"
           }
          ]
         },
         "layout": {
          "annotationdefaults": {
           "arrowcolor": "#2a3f5f",
           "arrowhead": 0,
           "arrowwidth": 1
          },
          "autotypenumbers": "strict",
          "coloraxis": {
           "colorbar": {
            "outlinewidth": 0,
            "ticks": ""
           }
          },
          "colorscale": {
           "diverging": [
            [
             0,
             "#8e0152"
            ],
            [
             0.1,
             "#c51b7d"
            ],
            [
             0.2,
             "#de77ae"
            ],
            [
             0.3,
             "#f1b6da"
            ],
            [
             0.4,
             "#fde0ef"
            ],
            [
             0.5,
             "#f7f7f7"
            ],
            [
             0.6,
             "#e6f5d0"
            ],
            [
             0.7,
             "#b8e186"
            ],
            [
             0.8,
             "#7fbc41"
            ],
            [
             0.9,
             "#4d9221"
            ],
            [
             1,
             "#276419"
            ]
           ],
           "sequential": [
            [
             0,
             "#0d0887"
            ],
            [
             0.1111111111111111,
             "#46039f"
            ],
            [
             0.2222222222222222,
             "#7201a8"
            ],
            [
             0.3333333333333333,
             "#9c179e"
            ],
            [
             0.4444444444444444,
             "#bd3786"
            ],
            [
             0.5555555555555556,
             "#d8576b"
            ],
            [
             0.6666666666666666,
             "#ed7953"
            ],
            [
             0.7777777777777778,
             "#fb9f3a"
            ],
            [
             0.8888888888888888,
             "#fdca26"
            ],
            [
             1,
             "#f0f921"
            ]
           ],
           "sequentialminus": [
            [
             0,
             "#0d0887"
            ],
            [
             0.1111111111111111,
             "#46039f"
            ],
            [
             0.2222222222222222,
             "#7201a8"
            ],
            [
             0.3333333333333333,
             "#9c179e"
            ],
            [
             0.4444444444444444,
             "#bd3786"
            ],
            [
             0.5555555555555556,
             "#d8576b"
            ],
            [
             0.6666666666666666,
             "#ed7953"
            ],
            [
             0.7777777777777778,
             "#fb9f3a"
            ],
            [
             0.8888888888888888,
             "#fdca26"
            ],
            [
             1,
             "#f0f921"
            ]
           ]
          },
          "colorway": [
           "#636efa",
           "#EF553B",
           "#00cc96",
           "#ab63fa",
           "#FFA15A",
           "#19d3f3",
           "#FF6692",
           "#B6E880",
           "#FF97FF",
           "#FECB52"
          ],
          "font": {
           "color": "#2a3f5f"
          },
          "geo": {
           "bgcolor": "white",
           "lakecolor": "white",
           "landcolor": "#E5ECF6",
           "showlakes": true,
           "showland": true,
           "subunitcolor": "white"
          },
          "hoverlabel": {
           "align": "left"
          },
          "hovermode": "closest",
          "mapbox": {
           "style": "light"
          },
          "paper_bgcolor": "white",
          "plot_bgcolor": "#E5ECF6",
          "polar": {
           "angularaxis": {
            "gridcolor": "white",
            "linecolor": "white",
            "ticks": ""
           },
           "bgcolor": "#E5ECF6",
           "radialaxis": {
            "gridcolor": "white",
            "linecolor": "white",
            "ticks": ""
           }
          },
          "scene": {
           "xaxis": {
            "backgroundcolor": "#E5ECF6",
            "gridcolor": "white",
            "gridwidth": 2,
            "linecolor": "white",
            "showbackground": true,
            "ticks": "",
            "zerolinecolor": "white"
           },
           "yaxis": {
            "backgroundcolor": "#E5ECF6",
            "gridcolor": "white",
            "gridwidth": 2,
            "linecolor": "white",
            "showbackground": true,
            "ticks": "",
            "zerolinecolor": "white"
           },
           "zaxis": {
            "backgroundcolor": "#E5ECF6",
            "gridcolor": "white",
            "gridwidth": 2,
            "linecolor": "white",
            "showbackground": true,
            "ticks": "",
            "zerolinecolor": "white"
           }
          },
          "shapedefaults": {
           "line": {
            "color": "#2a3f5f"
           }
          },
          "ternary": {
           "aaxis": {
            "gridcolor": "white",
            "linecolor": "white",
            "ticks": ""
           },
           "baxis": {
            "gridcolor": "white",
            "linecolor": "white",
            "ticks": ""
           },
           "bgcolor": "#E5ECF6",
           "caxis": {
            "gridcolor": "white",
            "linecolor": "white",
            "ticks": ""
           }
          },
          "title": {
           "x": 0.05
          },
          "xaxis": {
           "automargin": true,
           "gridcolor": "white",
           "linecolor": "white",
           "ticks": "",
           "title": {
            "standoff": 15
           },
           "zerolinecolor": "white",
           "zerolinewidth": 2
          },
          "yaxis": {
           "automargin": true,
           "gridcolor": "white",
           "linecolor": "white",
           "ticks": "",
           "title": {
            "standoff": 15
           },
           "zerolinecolor": "white",
           "zerolinewidth": 2
          }
         }
        },
        "xaxis": {
         "anchor": "y",
         "domain": [
          0,
          1
         ],
         "title": {
          "text": "X"
         }
        },
        "yaxis": {
         "anchor": "x",
         "domain": [
          0,
          1
         ],
         "title": {
          "text": "Y"
         }
        }
       }
      }
     },
     "metadata": {},
     "output_type": "display_data"
    }
   ],
   "source": [
    "try:\n",
    "    fig = px.scatter_3d(data_labels, x=\"X\", y=\"Y\", z='Z', color='label', hover_data=['Brand'])\n",
    "except ValueError:\n",
    "    fig = px.scatter(data_labels, x=\"X\", y=\"Y\", color='label', hover_data=['Brand'])\n",
    "\n",
    "fig.show()"
   ]
  }
 ],
 "metadata": {
  "kernelspec": {
   "display_name": "Python 3",
   "language": "python",
   "name": "python3"
  },
  "language_info": {
   "codemirror_mode": {
    "name": "ipython",
    "version": 3
   },
   "file_extension": ".py",
   "mimetype": "text/x-python",
   "name": "python",
   "nbconvert_exporter": "python",
   "pygments_lexer": "ipython3",
   "version": "3.10.11"
  }
 },
 "nbformat": 4,
 "nbformat_minor": 2
}
